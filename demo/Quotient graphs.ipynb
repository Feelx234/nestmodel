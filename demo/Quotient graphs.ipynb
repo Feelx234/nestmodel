{
 "cells": [
  {
   "cell_type": "code",
   "execution_count": 7,
   "id": "d27b1bfa-2e9b-4288-9dc7-2cd51c2af03d",
   "metadata": {},
   "outputs": [],
   "source": [
    "import networkx as nx\n",
    "import numpy as np"
   ]
  },
  {
   "cell_type": "code",
   "execution_count": null,
   "id": "e4966112-e269-485e-b6c0-a1c5c1df3772",
   "metadata": {},
   "outputs": [],
   "source": []
  },
  {
   "cell_type": "code",
   "execution_count": null,
   "id": "d76bc4e5-847e-403a-b7ce-d15c97844985",
   "metadata": {},
   "outputs": [],
   "source": []
  },
  {
   "cell_type": "code",
   "execution_count": null,
   "id": "9127061d-5e34-4e88-821c-729ac9488b9a",
   "metadata": {},
   "outputs": [],
   "source": []
  },
  {
   "cell_type": "code",
   "execution_count": 23,
   "id": "ce830f39-84bc-428d-865e-00a0ba7363bd",
   "metadata": {},
   "outputs": [],
   "source": [
    "G = nx.Graph()\n",
    "G.add_nodes_from(range(7))\n",
    "G.add_edges_from([(0,3), (0,4), (1,3), (1,6), (2,4), (2,5), (3,6), (4,5), (5,6)])"
   ]
  },
  {
   "cell_type": "code",
   "execution_count": 24,
   "id": "3d7e9037-5cb9-44e4-83cb-0eb547323a17",
   "metadata": {},
   "outputs": [
    {
     "data": {
      "text/plain": [
       "array([[0, 0, 0, 1, 1, 0, 0],\n",
       "       [0, 0, 0, 1, 0, 0, 1],\n",
       "       [0, 0, 0, 0, 1, 1, 0],\n",
       "       [1, 1, 0, 0, 0, 0, 1],\n",
       "       [1, 0, 1, 0, 0, 1, 0],\n",
       "       [0, 0, 1, 0, 1, 0, 1],\n",
       "       [0, 1, 0, 1, 0, 1, 0]], dtype=int32)"
      ]
     },
     "execution_count": 24,
     "metadata": {},
     "output_type": "execute_result"
    }
   ],
   "source": [
    "A = nx.adjacency_matrix(G).todense()\n",
    "A"
   ]
  },
  {
   "cell_type": "code",
   "execution_count": 25,
   "id": "eb0d8008-11e1-405b-b75c-2c8ad1cae7d7",
   "metadata": {},
   "outputs": [
    {
     "data": {
      "text/plain": [
       "array([[1, 0, 0, 0],\n",
       "       [0, 1, 0, 0],\n",
       "       [0, 1, 0, 0],\n",
       "       [0, 0, 1, 0],\n",
       "       [0, 0, 1, 0],\n",
       "       [0, 0, 0, 1],\n",
       "       [0, 0, 0, 1]])"
      ]
     },
     "execution_count": 25,
     "metadata": {},
     "output_type": "execute_result"
    }
   ],
   "source": [
    "H4 = np.zeros((7,4), dtype=int)\n",
    "H4[0,0]=1\n",
    "H4[1:3,1]=1\n",
    "H4[3:5,2]=1\n",
    "H4[5:7,3]=1\n",
    "H4"
   ]
  },
  {
   "cell_type": "code",
   "execution_count": 26,
   "id": "6b2fa372-21aa-4f52-a6a2-15ceaeb5d896",
   "metadata": {},
   "outputs": [
    {
     "data": {
      "text/plain": [
       "array([[0, 0, 2, 0],\n",
       "       [0, 0, 1, 1],\n",
       "       [0, 0, 1, 1],\n",
       "       [1, 1, 0, 1],\n",
       "       [1, 1, 0, 1],\n",
       "       [0, 1, 1, 1],\n",
       "       [0, 1, 1, 1]])"
      ]
     },
     "execution_count": 26,
     "metadata": {},
     "output_type": "execute_result"
    }
   ],
   "source": [
    "A@H4"
   ]
  },
  {
   "cell_type": "code",
   "execution_count": 32,
   "id": "b66727c5-ad93-4afe-8ac0-48d9de184720",
   "metadata": {},
   "outputs": [],
   "source": [
    "Api = np.array(\n",
    "    [[0,0,2,0],\n",
    "     [0,0,1,1],\n",
    "     [1,0,1,1],\n",
    "     [0,1,1,1]]\n",
    "    ,dtype=int)"
   ]
  },
  {
   "cell_type": "code",
   "execution_count": 33,
   "id": "025b4aba-f278-4a58-93aa-031496c16ced",
   "metadata": {},
   "outputs": [
    {
     "data": {
      "text/plain": [
       "array([[0, 0, 2, 0],\n",
       "       [0, 0, 1, 1],\n",
       "       [0, 0, 1, 1],\n",
       "       [1, 0, 1, 1],\n",
       "       [1, 0, 1, 1],\n",
       "       [0, 1, 1, 1],\n",
       "       [0, 1, 1, 1]])"
      ]
     },
     "execution_count": 33,
     "metadata": {},
     "output_type": "execute_result"
    }
   ],
   "source": [
    "H4@Api"
   ]
  },
  {
   "cell_type": "code",
   "execution_count": 35,
   "id": "7a552d8c-f3e1-4c44-975f-c410ef46a047",
   "metadata": {},
   "outputs": [
    {
     "data": {
      "text/plain": [
       "array([[0, 0, 2, 0],\n",
       "       [0, 0, 2, 2],\n",
       "       [2, 2, 0, 2],\n",
       "       [0, 2, 2, 2]])"
      ]
     },
     "execution_count": 35,
     "metadata": {},
     "output_type": "execute_result"
    }
   ],
   "source": [
    "H4.T@A@H4"
   ]
  },
  {
   "cell_type": "code",
   "execution_count": 43,
   "id": "9f54341e-8372-4ec5-9e08-bfe3ba44b42f",
   "metadata": {},
   "outputs": [
    {
     "data": {
      "text/plain": [
       "array([[0.66666667, 0.66666667, 0.        , 0.66666667],\n",
       "       [0.33333333, 0.66666667, 0.33333333, 0.66666667],\n",
       "       [0.33333333, 0.66666667, 1.33333333, 0.66666667],\n",
       "       [0.33333333, 0.66666667, 0.83333333, 1.16666667]])"
      ]
     },
     "execution_count": 43,
     "metadata": {},
     "output_type": "execute_result"
    }
   ],
   "source": [
    "Api@np.diag(1/np.sum(H4.T@A@H4,axis=1))@H4.T@A@H4"
   ]
  },
  {
   "cell_type": "code",
   "execution_count": 44,
   "id": "b0fa82af-fa36-43fa-8668-50595fac74fc",
   "metadata": {},
   "outputs": [
    {
     "data": {
      "text/plain": [
       "array([[0.        , 0.        , 1.        , 0.        ],\n",
       "       [0.        , 0.        , 0.5       , 0.5       ],\n",
       "       [0.33333333, 0.33333333, 0.        , 0.33333333],\n",
       "       [0.        , 0.33333333, 0.33333333, 0.33333333]])"
      ]
     },
     "execution_count": 44,
     "metadata": {},
     "output_type": "execute_result"
    }
   ],
   "source": [
    "np.diag(1/np.sum(H4.T@A@H4,axis=1))@H4.T@A@H4"
   ]
  },
  {
   "cell_type": "code",
   "execution_count": 48,
   "id": "bd427e93-a7fa-42cd-9d2c-2fdc3e5e0926",
   "metadata": {},
   "outputs": [
    {
     "data": {
      "text/plain": [
       "array([[0.66666667, 0.66666667, 0.        , 0.66666667],\n",
       "       [0.33333333, 0.66666667, 0.33333333, 0.66666667],\n",
       "       [0.33333333, 0.66666667, 1.33333333, 0.66666667],\n",
       "       [0.33333333, 0.66666667, 0.83333333, 1.16666667]])"
      ]
     },
     "execution_count": 48,
     "metadata": {},
     "output_type": "execute_result"
    }
   ],
   "source": [
    "Api @ np.diag(1/np.sum(H4.T@A@H4,axis=1))@H4.T@A@H4"
   ]
  },
  {
   "cell_type": "code",
   "execution_count": 49,
   "id": "b10acd28-2b2e-40a7-b649-30bea37632ff",
   "metadata": {},
   "outputs": [
    {
     "data": {
      "text/plain": [
       "array([1., 1., 5., 3.])"
      ]
     },
     "execution_count": 49,
     "metadata": {},
     "output_type": "execute_result"
    }
   ],
   "source": [
    "(Api.T @ np.diag(1/np.sum(H4.T@A@H4,axis=1))@H4.T@A@H4).sum(axis=1)"
   ]
  },
  {
   "cell_type": "code",
   "execution_count": 50,
   "id": "60bea038-e237-4c14-ae93-60a4c1c318f1",
   "metadata": {},
   "outputs": [
    {
     "data": {
      "text/plain": [
       "array([2., 2., 3., 3.])"
      ]
     },
     "execution_count": 50,
     "metadata": {},
     "output_type": "execute_result"
    }
   ],
   "source": [
    "(Api @ np.diag(1/np.sum(H4.T@A@H4,axis=1))@H4.T@A@H4).sum(axis=1)"
   ]
  },
  {
   "cell_type": "code",
   "execution_count": 51,
   "id": "5c7c34a8-e038-42e8-857c-33c4c50ad6b7",
   "metadata": {},
   "outputs": [
    {
     "data": {
      "text/plain": [
       "array([[0.66666667, 0.66666667, 0.        , 0.66666667],\n",
       "       [0.33333333, 0.66666667, 0.33333333, 0.66666667],\n",
       "       [0.33333333, 0.66666667, 1.33333333, 0.66666667],\n",
       "       [0.33333333, 0.66666667, 0.83333333, 1.16666667]])"
      ]
     },
     "execution_count": 51,
     "metadata": {},
     "output_type": "execute_result"
    }
   ],
   "source": [
    "Api @ np.diag(1/np.sum(H4.T@A@H4,axis=1))@H4.T@A@H4"
   ]
  },
  {
   "cell_type": "code",
   "execution_count": 53,
   "id": "1d92fab1-885a-43d7-b416-5886bbe72656",
   "metadata": {},
   "outputs": [
    {
     "data": {
      "text/plain": [
       "array([[0.        , 0.        , 1.        , 0.        ],\n",
       "       [0.        , 0.        , 0.5       , 0.5       ],\n",
       "       [0.33333333, 0.33333333, 0.        , 0.33333333],\n",
       "       [0.        , 0.33333333, 0.33333333, 0.33333333]])"
      ]
     },
     "execution_count": 53,
     "metadata": {},
     "output_type": "execute_result"
    }
   ],
   "source": [
    "np.diag(1/np.sum(H4.T@A@H4,axis=1))@H4.T@A@H4"
   ]
  },
  {
   "cell_type": "code",
   "execution_count": 56,
   "id": "cef48364-85f0-40dc-af8d-20606de70555",
   "metadata": {},
   "outputs": [
    {
     "data": {
      "text/plain": [
       "array([[0.33333333, 0.33333333, 0.        , 0.33333333],\n",
       "       [0.        , 0.33333333, 0.33333333, 0.33333333],\n",
       "       [0.33333333, 0.66666667, 2.83333333, 1.16666667],\n",
       "       [0.33333333, 0.66666667, 0.83333333, 1.16666667]])"
      ]
     },
     "execution_count": 56,
     "metadata": {},
     "output_type": "execute_result"
    }
   ],
   "source": [
    "Api.T@np.diag(1/np.sum(H4.T@A@H4,axis=1))@H4.T@A@H4\n"
   ]
  },
  {
   "cell_type": "code",
   "execution_count": 64,
   "id": "eed70d26-4c10-417f-9bd8-9c658095da43",
   "metadata": {},
   "outputs": [
    {
     "data": {
      "text/plain": [
       "array([[0.33333333, 0.33333333, 0.33333333, 0.33333333],\n",
       "       [0.        , 0.33333333, 0.33333333, 0.33333333],\n",
       "       [0.33333333, 0.66666667, 2.66666667, 1.16666667],\n",
       "       [0.33333333, 0.66666667, 0.66666667, 1.16666667]])"
      ]
     },
     "execution_count": 64,
     "metadata": {},
     "output_type": "execute_result"
    }
   ],
   "source": [
    "Api.T@np.diag(1/np.sum(H4.T@A@H4,axis=1))@Api.T@H4.T@H4"
   ]
  },
  {
   "cell_type": "code",
   "execution_count": 68,
   "id": "00e2d34d-2924-4f0a-964e-39cb7060e566",
   "metadata": {},
   "outputs": [
    {
     "data": {
      "text/plain": [
       "array([[0.4       , 0.        , 0.8       , 0.8       ],\n",
       "       [0.2       , 0.33333333, 0.73333333, 0.73333333],\n",
       "       [0.2       , 0.33333333, 1.73333333, 0.73333333],\n",
       "       [0.2       , 0.33333333, 1.23333333, 1.23333333]])"
      ]
     },
     "execution_count": 68,
     "metadata": {},
     "output_type": "execute_result"
    }
   ],
   "source": [
    "Api@np.diag(1/np.sum(Api@H4.T@H4,axis=1))@Api@H4.T@H4"
   ]
  },
  {
   "cell_type": "code",
   "execution_count": 69,
   "id": "21a47f8c-526d-424c-95ad-3ad3adf1681d",
   "metadata": {},
   "outputs": [
    {
     "data": {
      "text/plain": [
       "array([[0, 0, 2, 0],\n",
       "       [0, 0, 2, 2],\n",
       "       [2, 2, 0, 2],\n",
       "       [0, 2, 2, 2]])"
      ]
     },
     "execution_count": 69,
     "metadata": {},
     "output_type": "execute_result"
    }
   ],
   "source": [
    "H4.T@A@H4"
   ]
  },
  {
   "cell_type": "code",
   "execution_count": 70,
   "id": "d4f3af88-7e33-4a8c-9514-df416c61d3ef",
   "metadata": {},
   "outputs": [
    {
     "data": {
      "text/plain": [
       "array([[1, 0, 0, 0],\n",
       "       [0, 2, 0, 0],\n",
       "       [0, 0, 2, 0],\n",
       "       [0, 0, 0, 2]])"
      ]
     },
     "execution_count": 70,
     "metadata": {},
     "output_type": "execute_result"
    }
   ],
   "source": [
    "H4.T@H4"
   ]
  },
  {
   "cell_type": "code",
   "execution_count": null,
   "id": "81d06770-596b-476d-a9e4-15071784d4c4",
   "metadata": {},
   "outputs": [],
   "source": []
  }
 ],
 "metadata": {
  "kernelspec": {
   "display_name": "Python 3 (ipykernel)",
   "language": "python",
   "name": "python3"
  },
  "language_info": {
   "codemirror_mode": {
    "name": "ipython",
    "version": 3
   },
   "file_extension": ".py",
   "mimetype": "text/x-python",
   "name": "python",
   "nbconvert_exporter": "python",
   "pygments_lexer": "ipython3",
   "version": "3.10.11"
  }
 },
 "nbformat": 4,
 "nbformat_minor": 5
}
