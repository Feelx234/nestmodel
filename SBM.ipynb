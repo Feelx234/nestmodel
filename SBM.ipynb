{
 "cells": [
  {
   "cell_type": "code",
   "execution_count": 8,
   "id": "def66281",
   "metadata": {},
   "outputs": [],
   "source": [
    "from nestmodel.ergm import Gnp_row_first\n",
    "from numba import njit\n",
    "import numpy as np"
   ]
  },
  {
   "cell_type": "code",
   "execution_count": 27,
   "id": "df91a8fb",
   "metadata": {},
   "outputs": [],
   "source": [
    "@njit(cache=True)\n",
    "def random_matrix(n_rows, n_columns, p):\n",
    "    approx = int(n_rows*n_columns*p)\n",
    "    E=np.empty((approx, 2), dtype=np.uint32)\n",
    "    i=0\n",
    "    \n",
    "    x = -1;\n",
    "    y = 0;\n",
    "    k = 1;\n",
    "    agg = 0;\n",
    "    upper_bound = n_rows*n_columns;\n",
    "    while True:\n",
    "        k = np.random.geometric(p)\n",
    "        x += k;\n",
    "        agg += k;\n",
    "        if agg > upper_bound:\n",
    "            break;\n",
    "        while x >= n_columns:\n",
    "            x-=n_columns;\n",
    "            y+=1;\n",
    "            \n",
    "        E[i,0]=y\n",
    "        E[i,1]=x\n",
    "\n",
    "        i+=1\n",
    "        if i >= len(E):\n",
    "            E2 = np.empty((len(E)+approx,2), dtype=np.uint32)\n",
    "            E2[:len(E)] = E[:]\n",
    "            E = E2\n",
    "\n",
    "    return E[:i,:]"
   ]
  },
  {
   "cell_type": "code",
   "execution_count": 28,
   "id": "e193fd62",
   "metadata": {},
   "outputs": [
    {
     "data": {
      "text/plain": [
       "array([[0, 4],\n",
       "       [1, 1],\n",
       "       [3, 1],\n",
       "       [4, 4],\n",
       "       [5, 0],\n",
       "       [5, 2],\n",
       "       [5, 8],\n",
       "       [6, 1],\n",
       "       [7, 4],\n",
       "       [7, 6],\n",
       "       [9, 3]], dtype=uint32)"
      ]
     },
     "execution_count": 28,
     "metadata": {},
     "output_type": "execute_result"
    }
   ],
   "source": [
    "random_matrix(10,10, 0.1)"
   ]
  },
  {
   "cell_type": "code",
   "execution_count": null,
   "id": "b9b5d081",
   "metadata": {},
   "outputs": [],
   "source": [
    "def SBM(Omega, p):\n",
    "    assert np.all(Omega==Omega.T)\n",
    "    all_edges = []\n",
    "    \n",
    "    k = len(Omega)\n",
    "    for i in range(k):\n",
    "        for j in range(i, k):\n",
    "            p = Omega[i,j]\n",
    "            if i == j:\n",
    "                new_edges = random_\n",
    "            else:\n",
    "            all_edges.append(new_edges)"
   ]
  },
  {
   "cell_type": "code",
   "execution_count": 42,
   "id": "f79cbd41",
   "metadata": {},
   "outputs": [],
   "source": [
    "def SBM(partition_sizes, P):\n",
    "    \n",
    "    def offset_edges(a,b, edge):\n",
    "        edges[:,0]+=a\n",
    "        edges[:,1]+=b\n",
    "        return edges\n",
    "        \n",
    "    all_edges = []\n",
    "    n_partitions = len(partition_sizes)\n",
    "    ns_cumsum = np.array([0, *np.cumsum(partition_sizes)], dtype=np.int64)\n",
    "    \n",
    "    for i in range(n_partitions):\n",
    "        for j in range(i+1):\n",
    "\n",
    "            p= P[i,j]\n",
    "            \n",
    "            #print(p)\n",
    "            if i==j:\n",
    "                edges = Gnp_row_first(partition_sizes[j], p)\n",
    "            else:\n",
    "                edges = random_matrix(partition_sizes[j], partition_sizes[i], p)\n",
    "            #print(edges)\n",
    "            di = ns_cumsum[i]\n",
    "            dj = ns_cumsum[j]\n",
    "\n",
    "            offset_edges(dj,di, edges)\n",
    "            all_edges.append(edges)\n",
    "    \n",
    "    return np.vstack(all_edges)"
   ]
  },
  {
   "cell_type": "code",
   "execution_count": 51,
   "id": "3af5c371",
   "metadata": {},
   "outputs": [],
   "source": [
    "a = 0.4\n",
    "b = 0.1\n",
    "c = a\n",
    "n=100\n",
    "edges = SBM([n//2,n//2], np.array([[a,b],[b, c]]))"
   ]
  },
  {
   "cell_type": "code",
   "execution_count": 52,
   "id": "00cd8737",
   "metadata": {},
   "outputs": [
    {
     "data": {
      "text/plain": [
       "(1201, 2)"
      ]
     },
     "execution_count": 52,
     "metadata": {},
     "output_type": "execute_result"
    }
   ],
   "source": [
    "edges.shape"
   ]
  },
  {
   "cell_type": "code",
   "execution_count": 53,
   "id": "6d0c0c71",
   "metadata": {},
   "outputs": [],
   "source": [
    "from nestmodel.fast_graph import FastGraph"
   ]
  },
  {
   "cell_type": "code",
   "execution_count": 57,
   "id": "c813c3ec",
   "metadata": {},
   "outputs": [],
   "source": []
  },
  {
   "cell_type": "code",
   "execution_count": 93,
   "id": "efced391",
   "metadata": {},
   "outputs": [],
   "source": [
    "from scipy.sparse import linalg\n",
    "from tqdm.notebook import tqdm"
   ]
  },
  {
   "cell_type": "code",
   "execution_count": 97,
   "id": "608c09b2",
   "metadata": {},
   "outputs": [
    {
     "data": {
      "application/vnd.jupyter.widget-view+json": {
       "model_id": "2e0c93e7667a4caba44c2a0de14731f1",
       "version_major": 2,
       "version_minor": 0
      },
      "text/plain": [
       "  0%|          | 0/100 [00:00<?, ?it/s]"
      ]
     },
     "metadata": {},
     "output_type": "display_data"
    },
    {
     "ename": "KeyboardInterrupt",
     "evalue": "",
     "output_type": "error",
     "traceback": [
      "\u001b[1;31m---------------------------------------------------------------------------\u001b[0m",
      "\u001b[1;31mKeyboardInterrupt\u001b[0m                         Traceback (most recent call last)",
      "Cell \u001b[1;32mIn[97], line 11\u001b[0m\n\u001b[0;32m      8\u001b[0m edges \u001b[38;5;241m=\u001b[39m SBM([n\u001b[38;5;241m/\u001b[39m\u001b[38;5;241m/\u001b[39m\u001b[38;5;241m2\u001b[39m,n\u001b[38;5;241m/\u001b[39m\u001b[38;5;241m/\u001b[39m\u001b[38;5;241m2\u001b[39m], np\u001b[38;5;241m.\u001b[39marray([[a,b],[b, c]]))\n\u001b[0;32m      9\u001b[0m A \u001b[38;5;241m=\u001b[39m FastGraph(edges, is_directed\u001b[38;5;241m=\u001b[39m\u001b[38;5;28;01mFalse\u001b[39;00m)\u001b[38;5;241m.\u001b[39mto_coo()\n\u001b[1;32m---> 11\u001b[0m vals, vecs \u001b[38;5;241m=\u001b[39m \u001b[43mlinalg\u001b[49m\u001b[38;5;241;43m.\u001b[39;49m\u001b[43meigsh\u001b[49m\u001b[43m(\u001b[49m\u001b[43mA\u001b[49m\u001b[43m,\u001b[49m\u001b[43m \u001b[49m\u001b[43mk\u001b[49m\u001b[38;5;241;43m=\u001b[39;49m\u001b[38;5;241;43m2\u001b[39;49m\u001b[43m,\u001b[49m\u001b[43m \u001b[49m\u001b[43mv0\u001b[49m\u001b[38;5;241;43m=\u001b[39;49m\u001b[43mnp\u001b[49m\u001b[38;5;241;43m.\u001b[39;49m\u001b[43mones\u001b[49m\u001b[43m(\u001b[49m\u001b[43mn\u001b[49m\u001b[43m)\u001b[49m\u001b[43m)\u001b[49m\n\u001b[0;32m     12\u001b[0m second_val \u001b[38;5;241m=\u001b[39m np\u001b[38;5;241m.\u001b[39margmin(vals)\n\u001b[0;32m     13\u001b[0m pred \u001b[38;5;241m=\u001b[39m np\u001b[38;5;241m.\u001b[39msign(vecs[:,second_val])\u001b[38;5;241m.\u001b[39mastype(\u001b[38;5;28mint\u001b[39m)\n",
      "File \u001b[1;32m~\\Desktop\\projects\\nestmodel\\env\\lib\\site-packages\\scipy\\sparse\\linalg\\_eigen\\arpack\\arpack.py:1697\u001b[0m, in \u001b[0;36meigsh\u001b[1;34m(A, k, M, sigma, which, v0, ncv, maxiter, tol, return_eigenvectors, Minv, OPinv, mode)\u001b[0m\n\u001b[0;32m   1695\u001b[0m \u001b[38;5;28;01mwith\u001b[39;00m _ARPACK_LOCK:\n\u001b[0;32m   1696\u001b[0m     \u001b[38;5;28;01mwhile\u001b[39;00m \u001b[38;5;129;01mnot\u001b[39;00m params\u001b[38;5;241m.\u001b[39mconverged:\n\u001b[1;32m-> 1697\u001b[0m         \u001b[43mparams\u001b[49m\u001b[38;5;241;43m.\u001b[39;49m\u001b[43miterate\u001b[49m\u001b[43m(\u001b[49m\u001b[43m)\u001b[49m\n\u001b[0;32m   1699\u001b[0m     \u001b[38;5;28;01mreturn\u001b[39;00m params\u001b[38;5;241m.\u001b[39mextract(return_eigenvectors)\n",
      "File \u001b[1;32m~\\Desktop\\projects\\nestmodel\\env\\lib\\site-packages\\scipy\\sparse\\linalg\\_eigen\\arpack\\arpack.py:549\u001b[0m, in \u001b[0;36m_SymmetricArpackParams.iterate\u001b[1;34m(self)\u001b[0m\n\u001b[0;32m    546\u001b[0m \u001b[38;5;28;01melif\u001b[39;00m \u001b[38;5;28mself\u001b[39m\u001b[38;5;241m.\u001b[39mido \u001b[38;5;241m==\u001b[39m \u001b[38;5;241m1\u001b[39m:\n\u001b[0;32m    547\u001b[0m     \u001b[38;5;66;03m# compute y = Op*x\u001b[39;00m\n\u001b[0;32m    548\u001b[0m     \u001b[38;5;28;01mif\u001b[39;00m \u001b[38;5;28mself\u001b[39m\u001b[38;5;241m.\u001b[39mmode \u001b[38;5;241m==\u001b[39m \u001b[38;5;241m1\u001b[39m:\n\u001b[1;32m--> 549\u001b[0m         \u001b[38;5;28mself\u001b[39m\u001b[38;5;241m.\u001b[39mworkd[yslice] \u001b[38;5;241m=\u001b[39m \u001b[38;5;28;43mself\u001b[39;49m\u001b[38;5;241;43m.\u001b[39;49m\u001b[43mOP\u001b[49m\u001b[43m(\u001b[49m\u001b[38;5;28;43mself\u001b[39;49m\u001b[38;5;241;43m.\u001b[39;49m\u001b[43mworkd\u001b[49m\u001b[43m[\u001b[49m\u001b[43mxslice\u001b[49m\u001b[43m]\u001b[49m\u001b[43m)\u001b[49m\n\u001b[0;32m    550\u001b[0m     \u001b[38;5;28;01melif\u001b[39;00m \u001b[38;5;28mself\u001b[39m\u001b[38;5;241m.\u001b[39mmode \u001b[38;5;241m==\u001b[39m \u001b[38;5;241m2\u001b[39m:\n\u001b[0;32m    551\u001b[0m         \u001b[38;5;28mself\u001b[39m\u001b[38;5;241m.\u001b[39mworkd[xslice] \u001b[38;5;241m=\u001b[39m \u001b[38;5;28mself\u001b[39m\u001b[38;5;241m.\u001b[39mOPb(\u001b[38;5;28mself\u001b[39m\u001b[38;5;241m.\u001b[39mworkd[xslice])\n",
      "File \u001b[1;32m~\\Desktop\\projects\\nestmodel\\env\\lib\\site-packages\\scipy\\sparse\\linalg\\_interface.py:232\u001b[0m, in \u001b[0;36mLinearOperator.matvec\u001b[1;34m(self, x)\u001b[0m\n\u001b[0;32m    229\u001b[0m \u001b[38;5;28;01mif\u001b[39;00m x\u001b[38;5;241m.\u001b[39mshape \u001b[38;5;241m!=\u001b[39m (N,) \u001b[38;5;129;01mand\u001b[39;00m x\u001b[38;5;241m.\u001b[39mshape \u001b[38;5;241m!=\u001b[39m (N,\u001b[38;5;241m1\u001b[39m):\n\u001b[0;32m    230\u001b[0m     \u001b[38;5;28;01mraise\u001b[39;00m \u001b[38;5;167;01mValueError\u001b[39;00m(\u001b[38;5;124m'\u001b[39m\u001b[38;5;124mdimension mismatch\u001b[39m\u001b[38;5;124m'\u001b[39m)\n\u001b[1;32m--> 232\u001b[0m y \u001b[38;5;241m=\u001b[39m \u001b[38;5;28;43mself\u001b[39;49m\u001b[38;5;241;43m.\u001b[39;49m\u001b[43m_matvec\u001b[49m\u001b[43m(\u001b[49m\u001b[43mx\u001b[49m\u001b[43m)\u001b[49m\n\u001b[0;32m    234\u001b[0m \u001b[38;5;28;01mif\u001b[39;00m \u001b[38;5;28misinstance\u001b[39m(x, np\u001b[38;5;241m.\u001b[39mmatrix):\n\u001b[0;32m    235\u001b[0m     y \u001b[38;5;241m=\u001b[39m asmatrix(y)\n",
      "File \u001b[1;32m~\\Desktop\\projects\\nestmodel\\env\\lib\\site-packages\\scipy\\sparse\\linalg\\_interface.py:199\u001b[0m, in \u001b[0;36mLinearOperator._matvec\u001b[1;34m(self, x)\u001b[0m\n\u001b[0;32m    189\u001b[0m \u001b[38;5;28;01mdef\u001b[39;00m \u001b[38;5;21m_matvec\u001b[39m(\u001b[38;5;28mself\u001b[39m, x):\n\u001b[0;32m    190\u001b[0m \u001b[38;5;250m    \u001b[39m\u001b[38;5;124;03m\"\"\"Default matrix-vector multiplication handler.\u001b[39;00m\n\u001b[0;32m    191\u001b[0m \n\u001b[0;32m    192\u001b[0m \u001b[38;5;124;03m    If self is a linear operator of shape (M, N), then this method will\u001b[39;00m\n\u001b[1;32m   (...)\u001b[0m\n\u001b[0;32m    197\u001b[0m \u001b[38;5;124;03m    will define matrix-vector multiplication as well.\u001b[39;00m\n\u001b[0;32m    198\u001b[0m \u001b[38;5;124;03m    \"\"\"\u001b[39;00m\n\u001b[1;32m--> 199\u001b[0m     \u001b[38;5;28;01mreturn\u001b[39;00m \u001b[38;5;28;43mself\u001b[39;49m\u001b[38;5;241;43m.\u001b[39;49m\u001b[43mmatmat\u001b[49m\u001b[43m(\u001b[49m\u001b[43mx\u001b[49m\u001b[38;5;241;43m.\u001b[39;49m\u001b[43mreshape\u001b[49m\u001b[43m(\u001b[49m\u001b[38;5;241;43m-\u001b[39;49m\u001b[38;5;241;43m1\u001b[39;49m\u001b[43m,\u001b[49m\u001b[43m \u001b[49m\u001b[38;5;241;43m1\u001b[39;49m\u001b[43m)\u001b[49m\u001b[43m)\u001b[49m\n",
      "File \u001b[1;32m~\\Desktop\\projects\\nestmodel\\env\\lib\\site-packages\\scipy\\sparse\\linalg\\_interface.py:337\u001b[0m, in \u001b[0;36mLinearOperator.matmat\u001b[1;34m(self, X)\u001b[0m\n\u001b[0;32m    333\u001b[0m \u001b[38;5;28;01mif\u001b[39;00m X\u001b[38;5;241m.\u001b[39mshape[\u001b[38;5;241m0\u001b[39m] \u001b[38;5;241m!=\u001b[39m \u001b[38;5;28mself\u001b[39m\u001b[38;5;241m.\u001b[39mshape[\u001b[38;5;241m1\u001b[39m]:\n\u001b[0;32m    334\u001b[0m     \u001b[38;5;28;01mraise\u001b[39;00m \u001b[38;5;167;01mValueError\u001b[39;00m(\u001b[38;5;124m'\u001b[39m\u001b[38;5;124mdimension mismatch: \u001b[39m\u001b[38;5;132;01m%r\u001b[39;00m\u001b[38;5;124m, \u001b[39m\u001b[38;5;132;01m%r\u001b[39;00m\u001b[38;5;124m'\u001b[39m\n\u001b[0;32m    335\u001b[0m                      \u001b[38;5;241m%\u001b[39m (\u001b[38;5;28mself\u001b[39m\u001b[38;5;241m.\u001b[39mshape, X\u001b[38;5;241m.\u001b[39mshape))\n\u001b[1;32m--> 337\u001b[0m Y \u001b[38;5;241m=\u001b[39m \u001b[38;5;28;43mself\u001b[39;49m\u001b[38;5;241;43m.\u001b[39;49m\u001b[43m_matmat\u001b[49m\u001b[43m(\u001b[49m\u001b[43mX\u001b[49m\u001b[43m)\u001b[49m\n\u001b[0;32m    339\u001b[0m \u001b[38;5;28;01mif\u001b[39;00m \u001b[38;5;28misinstance\u001b[39m(Y, np\u001b[38;5;241m.\u001b[39mmatrix):\n\u001b[0;32m    340\u001b[0m     Y \u001b[38;5;241m=\u001b[39m asmatrix(Y)\n",
      "File \u001b[1;32m~\\Desktop\\projects\\nestmodel\\env\\lib\\site-packages\\scipy\\sparse\\linalg\\_interface.py:733\u001b[0m, in \u001b[0;36mMatrixLinearOperator._matmat\u001b[1;34m(self, X)\u001b[0m\n\u001b[0;32m    732\u001b[0m \u001b[38;5;28;01mdef\u001b[39;00m \u001b[38;5;21m_matmat\u001b[39m(\u001b[38;5;28mself\u001b[39m, X):\n\u001b[1;32m--> 733\u001b[0m     \u001b[38;5;28;01mreturn\u001b[39;00m \u001b[38;5;28;43mself\u001b[39;49m\u001b[38;5;241;43m.\u001b[39;49m\u001b[43mA\u001b[49m\u001b[38;5;241;43m.\u001b[39;49m\u001b[43mdot\u001b[49m\u001b[43m(\u001b[49m\u001b[43mX\u001b[49m\u001b[43m)\u001b[49m\n",
      "File \u001b[1;32m~\\Desktop\\projects\\nestmodel\\env\\lib\\site-packages\\scipy\\sparse\\_base.py:416\u001b[0m, in \u001b[0;36mspmatrix.dot\u001b[1;34m(self, other)\u001b[0m\n\u001b[0;32m    414\u001b[0m     \u001b[38;5;28;01mreturn\u001b[39;00m \u001b[38;5;28mself\u001b[39m \u001b[38;5;241m*\u001b[39m other\n\u001b[0;32m    415\u001b[0m \u001b[38;5;28;01melse\u001b[39;00m:\n\u001b[1;32m--> 416\u001b[0m     \u001b[38;5;28;01mreturn\u001b[39;00m \u001b[38;5;28;43mself\u001b[39;49m\u001b[43m \u001b[49m\u001b[38;5;241;43m@\u001b[39;49m\u001b[43m \u001b[49m\u001b[43mother\u001b[49m\n",
      "File \u001b[1;32m~\\Desktop\\projects\\nestmodel\\env\\lib\\site-packages\\scipy\\sparse\\_base.py:630\u001b[0m, in \u001b[0;36mspmatrix.__matmul__\u001b[1;34m(self, other)\u001b[0m\n\u001b[0;32m    627\u001b[0m \u001b[38;5;28;01mif\u001b[39;00m isscalarlike(other):\n\u001b[0;32m    628\u001b[0m     \u001b[38;5;28;01mraise\u001b[39;00m \u001b[38;5;167;01mValueError\u001b[39;00m(\u001b[38;5;124m\"\u001b[39m\u001b[38;5;124mScalar operands are not allowed, \u001b[39m\u001b[38;5;124m\"\u001b[39m\n\u001b[0;32m    629\u001b[0m                      \u001b[38;5;124m\"\u001b[39m\u001b[38;5;124muse \u001b[39m\u001b[38;5;124m'\u001b[39m\u001b[38;5;124m*\u001b[39m\u001b[38;5;124m'\u001b[39m\u001b[38;5;124m instead\u001b[39m\u001b[38;5;124m\"\u001b[39m)\n\u001b[1;32m--> 630\u001b[0m \u001b[38;5;28;01mreturn\u001b[39;00m \u001b[38;5;28;43mself\u001b[39;49m\u001b[38;5;241;43m.\u001b[39;49m\u001b[43m_mul_dispatch\u001b[49m\u001b[43m(\u001b[49m\u001b[43mother\u001b[49m\u001b[43m)\u001b[49m\n",
      "File \u001b[1;32m~\\Desktop\\projects\\nestmodel\\env\\lib\\site-packages\\scipy\\sparse\\_base.py:530\u001b[0m, in \u001b[0;36mspmatrix._mul_dispatch\u001b[1;34m(self, other)\u001b[0m\n\u001b[0;32m    528\u001b[0m     \u001b[38;5;28;01mreturn\u001b[39;00m \u001b[38;5;28mself\u001b[39m\u001b[38;5;241m.\u001b[39m_mul_vector(other)\n\u001b[0;32m    529\u001b[0m \u001b[38;5;28;01melif\u001b[39;00m other\u001b[38;5;241m.\u001b[39mshape \u001b[38;5;241m==\u001b[39m (N, \u001b[38;5;241m1\u001b[39m):\n\u001b[1;32m--> 530\u001b[0m     \u001b[38;5;28;01mreturn\u001b[39;00m \u001b[38;5;28;43mself\u001b[39;49m\u001b[38;5;241;43m.\u001b[39;49m\u001b[43m_mul_vector\u001b[49m\u001b[43m(\u001b[49m\u001b[43mother\u001b[49m\u001b[38;5;241;43m.\u001b[39;49m\u001b[43mravel\u001b[49m\u001b[43m(\u001b[49m\u001b[43m)\u001b[49m\u001b[43m)\u001b[49m\u001b[38;5;241m.\u001b[39mreshape(M, \u001b[38;5;241m1\u001b[39m)\n\u001b[0;32m    531\u001b[0m \u001b[38;5;28;01melif\u001b[39;00m other\u001b[38;5;241m.\u001b[39mndim \u001b[38;5;241m==\u001b[39m \u001b[38;5;241m2\u001b[39m \u001b[38;5;129;01mand\u001b[39;00m other\u001b[38;5;241m.\u001b[39mshape[\u001b[38;5;241m0\u001b[39m] \u001b[38;5;241m==\u001b[39m N:\n\u001b[0;32m    532\u001b[0m     \u001b[38;5;28;01mreturn\u001b[39;00m \u001b[38;5;28mself\u001b[39m\u001b[38;5;241m.\u001b[39m_mul_multivector(other)\n",
      "File \u001b[1;32m~\\Desktop\\projects\\nestmodel\\env\\lib\\site-packages\\scipy\\sparse\\_coo.py:579\u001b[0m, in \u001b[0;36mcoo_matrix._mul_vector\u001b[1;34m(self, other)\u001b[0m\n\u001b[0;32m    575\u001b[0m \u001b[38;5;28;01mdef\u001b[39;00m \u001b[38;5;21m_mul_vector\u001b[39m(\u001b[38;5;28mself\u001b[39m, other):\n\u001b[0;32m    576\u001b[0m     \u001b[38;5;66;03m#output array\u001b[39;00m\n\u001b[0;32m    577\u001b[0m     result \u001b[38;5;241m=\u001b[39m np\u001b[38;5;241m.\u001b[39mzeros(\u001b[38;5;28mself\u001b[39m\u001b[38;5;241m.\u001b[39mshape[\u001b[38;5;241m0\u001b[39m], dtype\u001b[38;5;241m=\u001b[39mupcast_char(\u001b[38;5;28mself\u001b[39m\u001b[38;5;241m.\u001b[39mdtype\u001b[38;5;241m.\u001b[39mchar,\n\u001b[0;32m    578\u001b[0m                                                         other\u001b[38;5;241m.\u001b[39mdtype\u001b[38;5;241m.\u001b[39mchar))\n\u001b[1;32m--> 579\u001b[0m     \u001b[43mcoo_matvec\u001b[49m\u001b[43m(\u001b[49m\u001b[38;5;28;43mself\u001b[39;49m\u001b[38;5;241;43m.\u001b[39;49m\u001b[43mnnz\u001b[49m\u001b[43m,\u001b[49m\u001b[43m \u001b[49m\u001b[38;5;28;43mself\u001b[39;49m\u001b[38;5;241;43m.\u001b[39;49m\u001b[43mrow\u001b[49m\u001b[43m,\u001b[49m\u001b[43m \u001b[49m\u001b[38;5;28;43mself\u001b[39;49m\u001b[38;5;241;43m.\u001b[39;49m\u001b[43mcol\u001b[49m\u001b[43m,\u001b[49m\u001b[43m \u001b[49m\u001b[38;5;28;43mself\u001b[39;49m\u001b[38;5;241;43m.\u001b[39;49m\u001b[43mdata\u001b[49m\u001b[43m,\u001b[49m\u001b[43m \u001b[49m\u001b[43mother\u001b[49m\u001b[43m,\u001b[49m\u001b[43m \u001b[49m\u001b[43mresult\u001b[49m\u001b[43m)\u001b[49m\n\u001b[0;32m    580\u001b[0m     \u001b[38;5;28;01mreturn\u001b[39;00m result\n",
      "\u001b[1;31mKeyboardInterrupt\u001b[0m: "
     ]
    }
   ],
   "source": [
    "\n",
    "out = []\n",
    "for sample_id in tqdm(range(100)):\n",
    "    for a in np.linspace(0.12,0.5,10):\n",
    "        for n in [100,1000,10_000]:\n",
    "            n=int(n)\n",
    "            solution = np.hstack([-np.ones(n//2), np.ones(n//2)])\n",
    "            c = a\n",
    "            edges = SBM([n//2,n//2], np.array([[a,b],[b, c]]))\n",
    "            A = FastGraph(edges, is_directed=False).to_coo()\n",
    "\n",
    "            vals, vecs = linalg.eigsh(A, k=2, v0=np.ones(n))\n",
    "            second_val = np.argmin(vals)\n",
    "            pred = np.sign(vecs[:,second_val]).astype(int)\n",
    "            correct = max(np.all(pred==solution), np.all(pred==-solution))\n",
    "            out.append((sample_id, a, n, correct))"
   ]
  },
  {
   "cell_type": "code",
   "execution_count": null,
   "id": "64bee16f",
   "metadata": {},
   "outputs": [],
   "source": []
  },
  {
   "cell_type": "code",
   "execution_count": null,
   "id": "3fb92943",
   "metadata": {},
   "outputs": [],
   "source": []
  }
 ],
 "metadata": {
  "kernelspec": {
   "display_name": "Python 3 (ipykernel)",
   "language": "python",
   "name": "python3"
  },
  "language_info": {
   "codemirror_mode": {
    "name": "ipython",
    "version": 3
   },
   "file_extension": ".py",
   "mimetype": "text/x-python",
   "name": "python",
   "nbconvert_exporter": "python",
   "pygments_lexer": "ipython3",
   "version": "3.10.11"
  }
 },
 "nbformat": 4,
 "nbformat_minor": 5
}
