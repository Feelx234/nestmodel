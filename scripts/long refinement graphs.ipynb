{
 "cells": [
  {
   "cell_type": "code",
   "execution_count": 1,
   "id": "76b3fa3b-969f-45f8-b88c-8ad72a7a62f3",
   "metadata": {},
   "outputs": [],
   "source": [
    "import numpy as np"
   ]
  },
  {
   "cell_type": "code",
   "execution_count": 2,
   "id": "5deb93b2-7514-4fca-96f4-325778ff695d",
   "metadata": {},
   "outputs": [],
   "source": [
    "from nestmodel.fast_graph import FastGraph\n",
    "from nestmodel.long_refinement_graphs import long_refinement_12__1_5, long_refinement_14__1_3, long_refinement_10\n",
    "from nestmodel.utils import make_directed"
   ]
  },
  {
   "cell_type": "code",
   "execution_count": 3,
   "id": "204b3c7c-80b4-4ba2-97b1-915406a4fe75",
   "metadata": {},
   "outputs": [],
   "source": [
    "G1 = long_refinement_14__1_3()\n",
    "G2 = long_refinement_12__1_5()"
   ]
  },
  {
   "cell_type": "code",
   "execution_count": 4,
   "id": "ae30d0b4-1ae3-477a-86cc-da980c6d8684",
   "metadata": {},
   "outputs": [],
   "source": [
    "from nestmodel.fast_wl import WL_fast"
   ]
  },
  {
   "cell_type": "code",
   "execution_count": 5,
   "id": "eab8de92-2de6-43aa-bea7-a270e41ba5b3",
   "metadata": {},
   "outputs": [
    {
     "data": {
      "text/plain": [
       "[array([0, 0, 0, 0, 0, 0, 0, 0, 0, 0, 0, 0, 0, 0]),\n",
       " array([0, 1, 1, 1, 1, 1, 1, 1, 1, 1, 1, 1, 1, 1]),\n",
       " array([0, 2, 1, 1, 1, 1, 1, 1, 1, 1, 1, 1, 1, 1]),\n",
       " array([0, 2, 3, 3, 1, 1, 1, 1, 1, 1, 1, 1, 1, 1]),\n",
       " array([0, 2, 3, 3, 1, 1, 1, 1, 1, 1, 4, 4, 4, 4]),\n",
       " array([0, 2, 3, 3, 1, 1, 1, 1, 1, 1, 4, 4, 5, 5]),\n",
       " array([0, 2, 3, 3, 1, 1, 1, 1, 6, 6, 4, 4, 5, 5]),\n",
       " array([0, 2, 3, 3, 1, 1, 7, 7, 6, 6, 4, 4, 5, 5]),\n",
       " array([0, 2, 3, 3, 1, 1, 7, 7, 6, 6, 4, 8, 5, 5]),\n",
       " array([0, 2, 9, 3, 1, 1, 7, 7, 6, 6, 4, 8, 5, 5]),\n",
       " array([ 0,  2,  9,  3,  1,  1,  7,  7,  6,  6,  4,  8,  5, 10]),\n",
       " array([ 0,  2,  9,  3,  1,  1,  7,  7, 11,  6,  4,  8,  5, 10]),\n",
       " array([ 0,  2,  9,  3,  1,  1,  7, 12, 11,  6,  4,  8,  5, 10]),\n",
       " array([ 0,  2,  9,  3, 13,  1,  7, 12, 11,  6,  4,  8,  5, 10])]"
      ]
     },
     "execution_count": 5,
     "metadata": {},
     "output_type": "execute_result"
    }
   ],
   "source": [
    "WL_fast(make_directed(G1.edges), method=\"nlogn\")"
   ]
  },
  {
   "cell_type": "code",
   "execution_count": 36,
   "id": "1282f96c-b1da-49c2-a654-e28aa49245f6",
   "metadata": {},
   "outputs": [],
   "source": [
    "from collections import defaultdict\n",
    "def get_moves(colorings):\n",
    "    \"\"\"Calculates the a move string corresponding to a long refinement graph\n",
    "    The three letters are\n",
    "    E : a single node is removed from a larger color\n",
    "    R : a color with more than 4 nodes is split into two colors where none of the colors has size 1\n",
    "    A : a color with two nodes is split into two singleton nodes\n",
    "    \"\"\"\n",
    "    s = \"\"\n",
    "    \n",
    "    for colors, next_colors  in zip(colorings, colorings[1:]):\n",
    "        count_prev = defaultdict(int)\n",
    "        count_now = defaultdict(int)\n",
    "        mapping = {c:prev_c for prev_c, c in zip(colors, next_colors) }\n",
    "        for prev_c, c in zip(colors, next_colors):\n",
    "            count_prev[prev_c]+=1\n",
    "            count_now[c]+=1\n",
    "        found = False\n",
    "        for c, prev_c in mapping.items():\n",
    "            if count_now[c] == count_prev[prev_c]:\n",
    "                continue\n",
    "            if count_prev[prev_c] != 2 and count_now[c] == 1:\n",
    "                found=True\n",
    "                s+=\"E\"\n",
    "                break\n",
    "            elif count_prev[prev_c] == 2 and count_now[c] == 1:\n",
    "                found=True\n",
    "                s+=\"A\"\n",
    "                break\n",
    "            else:\n",
    "                continue\n",
    "        if not found:\n",
    "            s+=\"R\"\n",
    "    return s"
   ]
  },
  {
   "cell_type": "code",
   "execution_count": 37,
   "id": "a5b6cf0d-910d-46aa-ba97-892bc618d255",
   "metadata": {},
   "outputs": [
    {
     "data": {
      "text/plain": [
       "'EERRRRRAAAAAA'"
      ]
     },
     "execution_count": 37,
     "metadata": {},
     "output_type": "execute_result"
    }
   ],
   "source": [
    "get_moves(WL_fast(make_directed(G1.edges), method=\"nlogn\", compact=False))"
   ]
  },
  {
   "cell_type": "code",
   "execution_count": 38,
   "id": "f222c149-aca7-4070-9e4b-2d8186f371d9",
   "metadata": {},
   "outputs": [
    {
     "data": {
      "text/plain": [
       "'EERRRRAAAAA'"
      ]
     },
     "execution_count": 38,
     "metadata": {},
     "output_type": "execute_result"
    }
   ],
   "source": [
    "get_moves(WL_fast(make_directed(G2.edges), method=\"nlogn\", compact=False))"
   ]
  },
  {
   "cell_type": "code",
   "execution_count": 43,
   "id": "a566eac3-d6f5-4300-b3b8-ea7b378e8550",
   "metadata": {},
   "outputs": [
    {
     "name": "stdout",
     "output_type": "stream",
     "text": [
      "RRRRAAAAA\n",
      "[4 3 3 3 3 3 3 3 3 4]\n",
      "RERERAAAA\n",
      "[4 4 4 2 2 2 4 4 4 4]\n",
      "RRRRAAAAA\n",
      "[4 4 3 3 4 4 3 3 4 4]\n",
      "RRRRAAAAA\n",
      "[4 3 4 3 4 3 4 3 4 4]\n",
      "RRRRAAAAA\n",
      "[4 4 4 4 4 4 4 4 5 5]\n",
      "RRRRAAAAA\n",
      "[4 4 4 4 4 4 4 4 6 6]\n",
      "RRRRAAAAA\n",
      "[5 5 3 3 5 3 3 5 5 5]\n",
      "RRRRAAAAA\n",
      "[4 4 4 4 4 4 5 5 5 5]\n",
      "RRRRAAAAA\n",
      "[4 4 4 4 4 4 6 6 6 6]\n",
      "RRRRAAAAA\n",
      "[4 4 5 5 5 4 5 4 5 5]\n",
      "RRRRAAAAA\n",
      "[5 5 3 5 3 5 5 5 5 5]\n",
      "RRRRAAAAA\n",
      "[5 5 4 5 5 5 5 4 5 5]\n",
      "RRRRAAAAA\n",
      "[5 5 5 5 6 6 5 5 6 6]\n",
      "RRRRAAAAA\n",
      "[5 5 5 5 5 5 6 6 6 6]\n",
      "RERERAAAA\n",
      "[5 5 5 5 5 5 5 7 7 7]\n",
      "RRRRAAAAA\n",
      "[5 6 6 6 6 5 6 6 6 6]\n"
     ]
    }
   ],
   "source": [
    "for i in range(16):\n",
    "    edges = long_refinement_10(i, return_graph=False)\n",
    "    print(get_moves(WL_fast(make_directed(edges), method=\"nlogn\", compact=False)))\n",
    "    print(np.bincount(edges.ravel())//2)"
   ]
  },
  {
   "cell_type": "code",
   "execution_count": 40,
   "id": "2c6f9584-5178-46d7-a729-16a402250813",
   "metadata": {},
   "outputs": [
    {
     "name": "stdout",
     "output_type": "stream",
     "text": [
      "RERERAAAA\n",
      "Counter({'A': 4, 'R': 3, 'E': 2})\n"
     ]
    },
    {
     "data": {
      "text/plain": [
       "[array([0, 0, 0, 0, 0, 0, 0, 0, 0, 0]),\n",
       " array([3, 3, 3, 0, 0, 0, 3, 3, 3, 3]),\n",
       " array([3, 3, 3, 0, 0, 0, 3, 3, 3, 9]),\n",
       " array([3, 4, 4, 0, 0, 0, 4, 4, 3, 9]),\n",
       " array([3, 4, 4, 1, 1, 0, 4, 4, 3, 9]),\n",
       " array([3, 5, 5, 1, 1, 0, 4, 4, 3, 9]),\n",
       " array([3, 5, 5, 1, 1, 0, 4, 4, 8, 9]),\n",
       " array([3, 5, 5, 2, 1, 0, 4, 4, 8, 9]),\n",
       " array([3, 5, 5, 2, 1, 0, 7, 4, 8, 9]),\n",
       " array([3, 6, 5, 2, 1, 0, 7, 4, 8, 9])]"
      ]
     },
     "execution_count": 40,
     "metadata": {},
     "output_type": "execute_result"
    }
   ],
   "source": [
    "from collections import Counter\n",
    "i=1\n",
    "edges = long_refinement_10(i, return_graph=False)\n",
    "s = get_moves(WL_fast(make_directed(edges), method=\"nlogn\", compact=False))\n",
    "print(s)\n",
    "print(Counter(s))\n",
    "WL_fast(make_directed(edges), method=\"nlogn\", compact=False)"
   ]
  },
  {
   "cell_type": "code",
   "execution_count": null,
   "id": "faf8855c-1360-4aa9-abf6-a2ffdac91bbc",
   "metadata": {},
   "outputs": [],
   "source": []
  },
  {
   "cell_type": "code",
   "execution_count": null,
   "id": "ba2c3950-c2d3-4ecc-99e8-8654b4a387bc",
   "metadata": {},
   "outputs": [],
   "source": []
  }
 ],
 "metadata": {
  "kernelspec": {
   "display_name": "Python 3 (ipykernel)",
   "language": "python",
   "name": "python3"
  },
  "language_info": {
   "codemirror_mode": {
    "name": "ipython",
    "version": 3
   },
   "file_extension": ".py",
   "mimetype": "text/x-python",
   "name": "python",
   "nbconvert_exporter": "python",
   "pygments_lexer": "ipython3",
   "version": "3.10.11"
  }
 },
 "nbformat": 4,
 "nbformat_minor": 5
}
