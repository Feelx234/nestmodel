{
 "cells": [
  {
   "cell_type": "code",
   "execution_count": 21,
   "id": "76b3fa3b-969f-45f8-b88c-8ad72a7a62f3",
   "metadata": {},
   "outputs": [],
   "source": [
    "import numpy as np"
   ]
  },
  {
   "cell_type": "code",
   "execution_count": 22,
   "id": "5deb93b2-7514-4fca-96f4-325778ff695d",
   "metadata": {},
   "outputs": [],
   "source": [
    "from nestmodel.fast_graph import FastGraph"
   ]
  },
  {
   "cell_type": "code",
   "execution_count": 23,
   "id": "6c81a9d2-d3c7-4142-98e2-f7844bf33530",
   "metadata": {},
   "outputs": [],
   "source": [
    "from networkx.readwrite import from_graph6_bytes\n",
    "from tqdm.notebook import tqdm"
   ]
  },
  {
   "cell_type": "code",
   "execution_count": 26,
   "id": "fb7bd5a6-0265-407f-bc7e-8223abc50627",
   "metadata": {},
   "outputs": [],
   "source": [
    "from nestmodel.io import g6_read_bytes, g6_bytes_to_edges"
   ]
  },
  {
   "cell_type": "code",
   "execution_count": 28,
   "id": "ec148bcb-7658-4b43-94a7-5ee9c74ea6d4",
   "metadata": {},
   "outputs": [
    {
     "name": "stdout",
     "output_type": "stream",
     "text": [
      "CPU times: total: 2.34 s\n",
      "Wall time: 2.33 s\n"
     ]
    }
   ],
   "source": [
    "%%time\n",
    "g6_bytes = g6_read_bytes(r\"L:/tmp/Isomorphism/graph10c.g6\")"
   ]
  },
  {
   "cell_type": "code",
   "execution_count": 30,
   "id": "cc5956c9-9880-425a-9fc4-fbaef31fdf04",
   "metadata": {},
   "outputs": [
    {
     "name": "stdout",
     "output_type": "stream",
     "text": [
      "11716571\n",
      "CPU times: total: 19.3 s\n",
      "Wall time: 19.4 s\n"
     ]
    }
   ],
   "source": [
    "%%time\n",
    "g6_edges = g6_bytes_to_edges(g6_bytes)"
   ]
  },
  {
   "cell_type": "code",
   "execution_count": 37,
   "id": "1fba459d-2b89-45c6-b172-0a99aea9b02c",
   "metadata": {},
   "outputs": [],
   "source": [
    "from collections import defaultdict, Counter\n",
    "def calc_sequence(colors):\n",
    "    for c1, c2 in zip(colors, colors[1:]):\n",
    "        d = defaultdict(Counter)\n",
    "        for i, j in zip(c2, c1):\n",
    "            d[i][j]+=1\n",
    "        print(d)\n",
    "        "
   ]
  },
  {
   "cell_type": "code",
   "execution_count": 39,
   "id": "11334e11-45e3-4b59-aff2-43be5677fdea",
   "metadata": {},
   "outputs": [],
   "source": [
    "from nestmodel.fast_wl import WL_fast\n",
    "from nestmodel.utils import make_directed"
   ]
  },
  {
   "cell_type": "code",
   "execution_count": 40,
   "id": "e81065e4-c176-4fef-b2d8-d7a87c90c339",
   "metadata": {},
   "outputs": [],
   "source": [
    "from collections import defaultdict"
   ]
  },
  {
   "cell_type": "code",
   "execution_count": 41,
   "id": "be306263-ee05-4cd3-b21d-1d8d12ffafa3",
   "metadata": {},
   "outputs": [],
   "source": [
    "from tqdm.notebook import tqdm"
   ]
  },
  {
   "cell_type": "code",
   "execution_count": 44,
   "id": "727663e9-4e8e-43fa-9ec9-43945cdf6289",
   "metadata": {},
   "outputs": [
    {
     "data": {
      "application/vnd.jupyter.widget-view+json": {
       "model_id": "e9efb4e45c664a48a1d41b2a709e2944",
       "version_major": 2,
       "version_minor": 0
      },
      "text/plain": [
       "  0%|          | 0/11716571 [00:00<?, ?it/s]"
      ]
     },
     "metadata": {},
     "output_type": "display_data"
    }
   ],
   "source": [
    "graphs_by_iteration_number = defaultdict(list)\n",
    "for edges in tqdm(g6_edges):\n",
    "    edges = make_directed(edges)\n",
    "    num_iterations = len(WL_fast(edges, method=\"nlogn\", compact=False))\n",
    "    if num_iterations>=8:\n",
    "        graphs_by_iteration_number[num_iterations].append(edges)"
   ]
  },
  {
   "cell_type": "code",
   "execution_count": 59,
   "id": "cdf366fd-a60e-452e-8df6-eedd42a25008",
   "metadata": {},
   "outputs": [
    {
     "data": {
      "text/plain": [
       "16"
      ]
     },
     "execution_count": 59,
     "metadata": {},
     "output_type": "execute_result"
    }
   ],
   "source": [
    "len(graphs_by_iteration_number[10])"
   ]
  },
  {
   "cell_type": "code",
   "execution_count": 60,
   "id": "eab8de92-2de6-43aa-bea7-a270e41ba5b3",
   "metadata": {},
   "outputs": [
    {
     "data": {
      "text/plain": [
       "0"
      ]
     },
     "execution_count": 60,
     "metadata": {},
     "output_type": "execute_result"
    }
   ],
   "source": [
    "len(graphs_by_iteration_number[11])"
   ]
  },
  {
   "cell_type": "code",
   "execution_count": 61,
   "id": "0536cf0a-4f4c-47ee-8cb6-d9f6e102898c",
   "metadata": {},
   "outputs": [],
   "source": [
    "s=\"\"\n",
    "for edges in graphs_by_iteration_number[10]:\n",
    "    s += repr(edges)+\"\\n\""
   ]
  },
  {
   "cell_type": "code",
   "execution_count": 62,
   "id": "e1039ec8-3e0c-48a0-bf62-13d754a3fa8e",
   "metadata": {},
   "outputs": [
    {
     "name": "stdout",
     "output_type": "stream",
     "text": [
      "array([[0, 4],       [1, 5],       [2, 5],       [0, 6],       [3, 6],       [4, 6],       [0, 7],       [1, 7],       [3, 7],       [1, 8],       [2, 8],       [4, 8],       [0, 9],       [2, 9],       [3, 9],       [5, 9],       [4, 0],       [5, 1],       [5, 2],       [6, 0],       [6, 3],       [6, 4],       [7, 0],       [7, 1],       [7, 3],       [8, 1],       [8, 2],       [8, 4],       [9, 0],       [9, 2],       [9, 3],       [9, 5]], dtype=int16)\n",
      "array([[0, 4],       [1, 5],       [2, 5],       [0, 6],       [1, 6],       [3, 6],       [0, 7],       [2, 7],       [4, 7],       [0, 8],       [1, 8],       [2, 8],       [3, 8],       [1, 9],       [2, 9],       [6, 9],       [7, 9],       [4, 0],       [5, 1],       [5, 2],       [6, 0],       [6, 1],       [6, 3],       [7, 0],       [7, 2],       [7, 4],       [8, 0],       [8, 1],       [8, 2],       [8, 3],       [9, 1],       [9, 2],       [9, 6],       [9, 7]], dtype=int16)\n",
      "array([[0, 4],       [1, 5],       [2, 5],       [3, 5],       [0, 6],       [1, 6],       [2, 6],       [1, 7],       [3, 7],       [4, 7],       [0, 8],       [1, 8],       [2, 8],       [4, 8],       [0, 9],       [3, 9],       [4, 9],       [5, 9],       [4, 0],       [5, 1],       [5, 2],       [5, 3],       [6, 0],       [6, 1],       [6, 2],       [7, 1],       [7, 3],       [7, 4],       [8, 0],       [8, 1],       [8, 2],       [8, 4],       [9, 0],       [9, 3],       [9, 4],       [9, 5]], dtype=int16)\n",
      "array([[0, 4],       [1, 4],       [2, 5],       [3, 5],       [0, 6],       [1, 6],       [2, 6],       [0, 7],       [1, 7],       [3, 7],       [0, 8],       [2, 8],       [4, 8],       [5, 8],       [2, 9],       [3, 9],       [4, 9],       [6, 9],       [4, 0],       [4, 1],       [5, 2],       [5, 3],       [6, 0],       [6, 1],       [6, 2],       [7, 0],       [7, 1],       [7, 3],       [8, 0],       [8, 2],       [8, 4],       [8, 5],       [9, 2],       [9, 3],       [9, 4],       [9, 6]], dtype=int16)\n",
      "array([[0, 4],       [1, 4],       [2, 5],       [3, 5],       [4, 5],       [0, 6],       [1, 6],       [2, 6],       [0, 7],       [2, 7],       [3, 7],       [0, 8],       [1, 8],       [3, 8],       [4, 8],       [5, 8],       [1, 9],       [2, 9],       [3, 9],       [6, 9],       [7, 9],       [4, 0],       [4, 1],       [5, 2],       [5, 3],       [5, 4],       [6, 0],       [6, 1],       [6, 2],       [7, 0],       [7, 2],       [7, 3],       [8, 0],       [8, 1],       [8, 3],       [8, 4],       [8, 5],       [9, 1],       [9, 2],       [9, 3],       [9, 6],       [9, 7]], dtype=int16)\n",
      "array([[0, 4],       [1, 4],       [2, 5],       [3, 5],       [4, 5],       [0, 6],       [1, 6],       [2, 6],       [0, 7],       [2, 7],       [3, 7],       [0, 8],       [1, 8],       [3, 8],       [4, 8],       [5, 8],       [1, 9],       [2, 9],       [3, 9],       [6, 9],       [7, 9],       [8, 9],       [4, 0],       [4, 1],       [5, 2],       [5, 3],       [5, 4],       [6, 0],       [6, 1],       [6, 2],       [7, 0],       [7, 2],       [7, 3],       [8, 0],       [8, 1],       [8, 3],       [8, 4],       [8, 5],       [9, 1],       [9, 2],       [9, 3],       [9, 6],       [9, 7],       [9, 8]], dtype=int16)\n",
      "array([[0, 4],       [1, 4],       [0, 5],       [2, 5],       [4, 5],       [0, 6],       [1, 6],       [3, 6],       [1, 7],       [2, 7],       [3, 7],       [0, 8],       [1, 8],       [3, 8],       [4, 8],       [7, 8],       [0, 9],       [1, 9],       [2, 9],       [4, 9],       [7, 9],       [4, 0],       [4, 1],       [5, 0],       [5, 2],       [5, 4],       [6, 0],       [6, 1],       [6, 3],       [7, 1],       [7, 2],       [7, 3],       [8, 0],       [8, 1],       [8, 3],       [8, 4],       [8, 7],       [9, 0],       [9, 1],       [9, 2],       [9, 4],       [9, 7]], dtype=int16)\n",
      "array([[0, 3],       [1, 4],       [0, 5],       [2, 5],       [0, 6],       [1, 6],       [3, 6],       [4, 6],       [0, 7],       [1, 7],       [2, 7],       [4, 7],       [1, 8],       [2, 8],       [3, 8],       [5, 8],       [6, 8],       [2, 9],       [3, 9],       [4, 9],       [5, 9],       [7, 9],       [3, 0],       [4, 1],       [5, 0],       [5, 2],       [6, 0],       [6, 1],       [6, 3],       [6, 4],       [7, 0],       [7, 1],       [7, 2],       [7, 4],       [8, 1],       [8, 2],       [8, 3],       [8, 5],       [8, 6],       [9, 2],       [9, 3],       [9, 4],       [9, 5],       [9, 7]], dtype=int16)\n",
      "array([[0, 3],       [1, 4],       [0, 5],       [2, 5],       [0, 6],       [1, 6],       [2, 6],       [4, 6],       [1, 7],       [2, 7],       [3, 7],       [5, 7],       [0, 8],       [1, 8],       [3, 8],       [4, 8],       [6, 8],       [7, 8],       [2, 9],       [3, 9],       [4, 9],       [5, 9],       [6, 9],       [7, 9],       [3, 0],       [4, 1],       [5, 0],       [5, 2],       [6, 0],       [6, 1],       [6, 2],       [6, 4],       [7, 1],       [7, 2],       [7, 3],       [7, 5],       [8, 0],       [8, 1],       [8, 3],       [8, 4],       [8, 6],       [8, 7],       [9, 2],       [9, 3],       [9, 4],       [9, 5],       [9, 6],       [9, 7]], dtype=int16)\n",
      "array([[0, 3],       [1, 4],       [2, 4],       [0, 5],       [1, 5],       [4, 5],       [0, 6],       [2, 6],       [3, 6],       [0, 7],       [1, 7],       [2, 7],       [3, 7],       [1, 8],       [2, 8],       [3, 8],       [4, 8],       [6, 8],       [2, 9],       [3, 9],       [4, 9],       [5, 9],       [6, 9],       [3, 0],       [4, 1],       [4, 2],       [5, 0],       [5, 1],       [5, 4],       [6, 0],       [6, 2],       [6, 3],       [7, 0],       [7, 1],       [7, 2],       [7, 3],       [8, 1],       [8, 2],       [8, 3],       [8, 4],       [8, 6],       [9, 2],       [9, 3],       [9, 4],       [9, 5],       [9, 6]], dtype=int16)\n",
      "array([[0, 3],       [0, 4],       [1, 4],       [1, 5],       [2, 5],       [0, 6],       [1, 6],       [2, 6],       [3, 6],       [0, 7],       [2, 7],       [3, 7],       [5, 7],       [1, 8],       [3, 8],       [4, 8],       [5, 8],       [6, 8],       [0, 9],       [1, 9],       [3, 9],       [5, 9],       [7, 9],       [3, 0],       [4, 0],       [4, 1],       [5, 1],       [5, 2],       [6, 0],       [6, 1],       [6, 2],       [6, 3],       [7, 0],       [7, 2],       [7, 3],       [7, 5],       [8, 1],       [8, 3],       [8, 4],       [8, 5],       [8, 6],       [9, 0],       [9, 1],       [9, 3],       [9, 5],       [9, 7]], dtype=int16)\n",
      "array([[0, 3],       [0, 4],       [1, 4],       [1, 5],       [2, 5],       [3, 5],       [0, 6],       [1, 6],       [2, 6],       [4, 6],       [0, 7],       [1, 7],       [2, 7],       [3, 7],       [1, 8],       [2, 8],       [3, 8],       [4, 8],       [5, 8],       [0, 9],       [3, 9],       [4, 9],       [5, 9],       [6, 9],       [3, 0],       [4, 0],       [4, 1],       [5, 1],       [5, 2],       [5, 3],       [6, 0],       [6, 1],       [6, 2],       [6, 4],       [7, 0],       [7, 1],       [7, 2],       [7, 3],       [8, 1],       [8, 2],       [8, 3],       [8, 4],       [8, 5],       [9, 0],       [9, 3],       [9, 4],       [9, 5],       [9, 6]], dtype=int16)\n",
      "array([[0, 3],       [0, 4],       [1, 4],       [3, 4],       [0, 5],       [1, 5],       [2, 5],       [0, 6],       [1, 6],       [2, 6],       [5, 6],       [1, 7],       [2, 7],       [3, 7],       [4, 7],       [0, 8],       [2, 8],       [3, 8],       [4, 8],       [5, 8],       [7, 8],       [1, 9],       [2, 9],       [3, 9],       [4, 9],       [5, 9],       [6, 9],       [3, 0],       [4, 0],       [4, 1],       [4, 3],       [5, 0],       [5, 1],       [5, 2],       [6, 0],       [6, 1],       [6, 2],       [6, 5],       [7, 1],       [7, 2],       [7, 3],       [7, 4],       [8, 0],       [8, 2],       [8, 3],       [8, 4],       [8, 5],       [8, 7],       [9, 1],       [9, 2],       [9, 3],       [9, 4],       [9, 5],       [9, 6]], dtype=int16)\n",
      "array([[0, 3],       [1, 3],       [0, 4],       [2, 4],       [1, 5],       [2, 5],       [0, 6],       [1, 6],       [3, 6],       [4, 6],       [0, 7],       [1, 7],       [2, 7],       [4, 7],       [5, 7],       [1, 8],       [2, 8],       [3, 8],       [4, 8],       [5, 8],       [6, 8],       [0, 9],       [2, 9],       [3, 9],       [5, 9],       [6, 9],       [7, 9],       [3, 0],       [3, 1],       [4, 0],       [4, 2],       [5, 1],       [5, 2],       [6, 0],       [6, 1],       [6, 3],       [6, 4],       [7, 0],       [7, 1],       [7, 2],       [7, 4],       [7, 5],       [8, 1],       [8, 2],       [8, 3],       [8, 4],       [8, 5],       [8, 6],       [9, 0],       [9, 2],       [9, 3],       [9, 5],       [9, 6],       [9, 7]], dtype=int16)\n",
      "array([[0, 3],       [1, 3],       [0, 4],       [2, 4],       [1, 5],       [2, 5],       [3, 5],       [0, 6],       [1, 6],       [4, 6],       [1, 7],       [2, 7],       [3, 7],       [4, 7],       [5, 7],       [0, 8],       [1, 8],       [2, 8],       [4, 8],       [6, 8],       [7, 8],       [0, 9],       [2, 9],       [3, 9],       [5, 9],       [6, 9],       [7, 9],       [8, 9],       [3, 0],       [3, 1],       [4, 0],       [4, 2],       [5, 1],       [5, 2],       [5, 3],       [6, 0],       [6, 1],       [6, 4],       [7, 1],       [7, 2],       [7, 3],       [7, 4],       [7, 5],       [8, 0],       [8, 1],       [8, 2],       [8, 4],       [8, 6],       [8, 7],       [9, 0],       [9, 2],       [9, 3],       [9, 5],       [9, 6],       [9, 7],       [9, 8]], dtype=int16)\n",
      "array([[0, 3],       [1, 3],       [0, 4],       [2, 4],       [1, 5],       [2, 5],       [3, 5],       [4, 5],       [0, 6],       [1, 6],       [2, 6],       [3, 6],       [0, 7],       [1, 7],       [2, 7],       [4, 7],       [6, 7],       [0, 8],       [1, 8],       [2, 8],       [3, 8],       [4, 8],       [6, 8],       [1, 9],       [2, 9],       [3, 9],       [4, 9],       [5, 9],       [7, 9],       [3, 0],       [3, 1],       [4, 0],       [4, 2],       [5, 1],       [5, 2],       [5, 3],       [5, 4],       [6, 0],       [6, 1],       [6, 2],       [6, 3],       [7, 0],       [7, 1],       [7, 2],       [7, 4],       [7, 6],       [8, 0],       [8, 1],       [8, 2],       [8, 3],       [8, 4],       [8, 6],       [9, 1],       [9, 2],       [9, 3],       [9, 4],       [9, 5],       [9, 7]], dtype=int16)\n",
      "\n"
     ]
    }
   ],
   "source": [
    "print(s.replace(\",\\n\", \",\"))"
   ]
  },
  {
   "cell_type": "code",
   "execution_count": null,
   "id": "1282f96c-b1da-49c2-a654-e28aa49245f6",
   "metadata": {},
   "outputs": [],
   "source": [
    "def get_moves(colorings):\n",
    "    s = \"\"\n",
    "    \n",
    "    for colors, next_colors  in zip(colorings, colorings[1:]):\n",
    "        count_prev = defaultdict(int)\n",
    "        count_now = defaultdict(int)\n",
    "        mapping = {c:prev_c for prev_c, c in zip(colors, next_colors) }\n",
    "        for prev_c, c in zip(colors, next_colors):\n",
    "            count_prev[prev_c]+=1\n",
    "            count_now[c]+=1\n",
    "        for c, prev_c in mapping.items():\n",
    "            if count_now[c] == count_prev[prev_c]:\n",
    "                continue\n",
    "            if count_prev[prev_c] != 2 and count_now[c] == 1:\n",
    "                s+=\"E\"\n",
    "                break\n",
    "            elif count_prev[prev_c] == 2 and count_now[c] == 1:\n",
    "                s+=\"A\"\n",
    "                break\n",
    "            else:\n",
    "                s+=\"R\"\n",
    "                break\n",
    "    return s"
   ]
  },
  {
   "cell_type": "code",
   "execution_count": null,
   "id": "a5b6cf0d-910d-46aa-ba97-892bc618d255",
   "metadata": {},
   "outputs": [],
   "source": [
    "get_moves(WL_fast(G.edges, method=\"nlogn\"))"
   ]
  },
  {
   "cell_type": "code",
   "execution_count": null,
   "id": "f222c149-aca7-4070-9e4b-2d8186f371d9",
   "metadata": {},
   "outputs": [],
   "source": [
    "get_moves(WL_fast(G2.edges, method=\"nlogn\"))"
   ]
  },
  {
   "cell_type": "code",
   "execution_count": null,
   "id": "e08be468-50bf-4176-9d11-3260b154be60",
   "metadata": {},
   "outputs": [],
   "source": [
    "G.calc_wl()"
   ]
  },
  {
   "cell_type": "code",
   "execution_count": null,
   "id": "5ab9d5d0-e75c-42df-8780-d72b58443cf4",
   "metadata": {},
   "outputs": [],
   "source": [
    "calc_sequence(G.calc_wl())"
   ]
  },
  {
   "cell_type": "code",
   "execution_count": null,
   "id": "a566eac3-d6f5-4300-b3b8-ea7b378e8550",
   "metadata": {},
   "outputs": [],
   "source": []
  },
  {
   "cell_type": "code",
   "execution_count": null,
   "id": "edfe4dce-bb5d-4f6f-9d6e-5941da19fbff",
   "metadata": {},
   "outputs": [],
   "source": []
  },
  {
   "cell_type": "code",
   "execution_count": null,
   "id": "2c6f9584-5178-46d7-a729-16a402250813",
   "metadata": {},
   "outputs": [],
   "source": []
  }
 ],
 "metadata": {
  "kernelspec": {
   "display_name": "Python 3 (ipykernel)",
   "language": "python",
   "name": "python3"
  },
  "language_info": {
   "codemirror_mode": {
    "name": "ipython",
    "version": 3
   },
   "file_extension": ".py",
   "mimetype": "text/x-python",
   "name": "python",
   "nbconvert_exporter": "python",
   "pygments_lexer": "ipython3",
   "version": "3.10.11"
  }
 },
 "nbformat": 4,
 "nbformat_minor": 5
}
