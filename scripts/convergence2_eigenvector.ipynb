{
 "cells": [
  {
   "cell_type": "code",
   "execution_count": null,
   "metadata": {},
   "outputs": [],
   "source": [
    "from nestmodel.centralities import calc_eigenvector\n",
    "from convergence_helper import MultiTracker, ParameterWrapper, compute_on_all_datasets, save_results\n",
    "from convergence_helper import get_datasets, get_samples"
   ]
  },
  {
   "cell_type": "code",
   "execution_count": null,
   "metadata": {},
   "outputs": [],
   "source": [
    "datasets = [\"karate\", \n",
    "            \"phonecalls\",\n",
    "            \"HepPh\", \n",
    "           \"AstroPh\", \n",
    "#            \"web-Google\",\n",
    "#             \"soc-Pokec\"\n",
    "           ]"
   ]
  },
  {
   "cell_type": "code",
   "execution_count": null,
   "metadata": {
    "scrolled": false
   },
   "outputs": [],
   "source": [
    "tracker = MultiTracker((\"eigenvector\",))\n",
    "params = ParameterWrapper(\n",
    "dataset_path = None,\n",
    "cent_func    = calc_eigenvector,   \n",
    "cent_kwargs  = {\"epsilon\":1e-16,\n",
    "                \"max_iter\":300},\n",
    "rewire_kwargs =    {\"method\":1, \"source_only\":True},\n",
    "wl_kwargs = {\"initial_colors\":None, \"both\":False},\n",
    "number_of_samples=get_samples(100)\n",
    ")\n",
    "\n",
    "\n",
    "params.verbosity=1\n",
    "tracker.verbosity=1\n",
    "params.tqdm=1\n",
    "compute_on_all_datasets(get_datasets(datasets), tracker, params)"
   ]
  },
  {
   "cell_type": "code",
   "execution_count": null,
   "metadata": {},
   "outputs": [],
   "source": [
    "save_results(\"eigenvector\", tracker, params)"
   ]
  },
  {
   "cell_type": "code",
   "execution_count": null,
   "metadata": {},
   "outputs": [],
   "source": []
  }
 ],
 "metadata": {
  "kernelspec": {
   "display_name": "Python 3 (ipykernel)",
   "language": "python",
   "name": "python3"
  },
  "language_info": {
   "codemirror_mode": {
    "name": "ipython",
    "version": 3
   },
   "file_extension": ".py",
   "mimetype": "text/x-python",
   "name": "python",
   "nbconvert_exporter": "python",
   "pygments_lexer": "ipython3",
   "version": "3.10.11"
  }
 },
 "nbformat": 4,
 "nbformat_minor": 4
}
