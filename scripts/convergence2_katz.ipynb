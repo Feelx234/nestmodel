{
 "cells": [
  {
   "cell_type": "code",
   "execution_count": null,
   "metadata": {},
   "outputs": [],
   "source": [
    "try:\n",
    "    from threadpoolctl import threadpool_limits\n",
    "    threadpool = True\n",
    "except ImportError:\n",
    "    threadpool = False\n",
    "from nestmodel.centralities import calc_katz_iter, calc_katz\n",
    "from convergence_helper import MultiTracker, ParameterWrapper, save_results\n",
    "from convergence_helper import get_datasets, get_samples"
   ]
  },
  {
   "cell_type": "code",
   "execution_count": null,
   "metadata": {},
   "outputs": [],
   "source": [
    "datasets = [\"karate\",\n",
    "            \"phonecalls\",\n",
    "            \"HepPh\",\n",
    "            \"AstroPh\",\n",
    "#            \"web-Google\",\n",
    "#            \"soc-Pokec\"\n",
    "           ]"
   ]
  },
  {
   "cell_type": "code",
   "execution_count": null,
   "metadata": {},
   "outputs": [],
   "source": [
    "from convergence_helper import process_dataset\n",
    "names_to_eigenvalues = {\n",
    "    \"karate\":      6.725697727631732,\n",
    "    \"phonecalls\" : 13.125956990198913,\n",
    "    \"HepPh\":       20, #5.6629203197371965,\n",
    "    \"AstroPh\":     94.4415437598996,\n",
    "    \"web-Google\":  37.639582115220364,\n",
    "    \"soc-Pokec\":   118.52742163417824}\n",
    "\n",
    "def compute_on_all_datasets(datasets, tracker, params):\n",
    "    \"\"\" computes\n",
    "    \"\"\"\n",
    "\n",
    "    for dataset in datasets:\n",
    "        alpha=1/3 * 1/names_to_eigenvalues[dataset]\n",
    "        params.cent_kwargs[\"alpha\"]=alpha\n",
    "        process_dataset(dataset, tracker, params)"
   ]
  },
  {
   "cell_type": "code",
   "execution_count": null,
   "metadata": {
    "scrolled": false
   },
   "outputs": [],
   "source": [
    "tracker = MultiTracker((\"katz\",))\n",
    "params = ParameterWrapper(\n",
    "dataset_path = None,\n",
    "cent_func    = calc_katz_iter,\n",
    "cent_kwargs  = {\"epsilon\":1e-15,\n",
    "                \"max_iter\":100},\n",
    "rewire_kwargs =    dict(method=1, source_only=True),\n",
    "wl_kwargs = {\"initial_colors\": None, \"both\":False},\n",
    "number_of_samples=get_samples(100)\n",
    ")\n",
    "\n",
    "params.verbosity=1\n",
    "params.tqdm=1\n",
    "tracker.verbosity=1\n",
    "if threadpool:\n",
    "    with threadpool_limits(limits=1, user_api='blas'):\n",
    "        with threadpool_limits(limits=1, user_api='openmp'):\n",
    "            compute_on_all_datasets(get_datasets(datasets), tracker, params)\n",
    "else:\n",
    "    compute_on_all_datasets(get_datasets(datasets), tracker, params)"
   ]
  },
  {
   "cell_type": "code",
   "execution_count": null,
   "metadata": {},
   "outputs": [],
   "source": [
    "save_results(\"katz\", tracker, params)"
   ]
  },
  {
   "cell_type": "code",
   "execution_count": null,
   "metadata": {},
   "outputs": [],
   "source": []
  }
 ],
 "metadata": {
  "kernelspec": {
   "display_name": "Python 3 (ipykernel)",
   "language": "python",
   "name": "python3"
  },
  "language_info": {
   "codemirror_mode": {
    "name": "ipython",
    "version": 3
   },
   "file_extension": ".py",
   "mimetype": "text/x-python",
   "name": "python",
   "nbconvert_exporter": "python",
   "pygments_lexer": "ipython3",
   "version": "3.10.11"
  }
 },
 "nbformat": 4,
 "nbformat_minor": 4
}
