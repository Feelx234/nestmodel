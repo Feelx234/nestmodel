{
 "cells": [
  {
   "cell_type": "code",
   "execution_count": 1,
   "id": "1489345d",
   "metadata": {},
   "outputs": [],
   "source": [
    "import time"
   ]
  },
  {
   "cell_type": "code",
   "execution_count": 2,
   "id": "91c9df15",
   "metadata": {},
   "outputs": [],
   "source": [
    "import matplotlib.pyplot as plt"
   ]
  },
  {
   "cell_type": "code",
   "execution_count": 3,
   "id": "15ea536c",
   "metadata": {},
   "outputs": [
    {
     "data": {
      "text/plain": [
       "[]"
      ]
     },
     "execution_count": 3,
     "metadata": {},
     "output_type": "execute_result"
    },
    {
     "data": {
      "image/png": "[encoded data removed]",
      "text/plain": [
       "<Figure size 432x288 with 1 Axes>"
      ]
     },
     "metadata": {
      "needs_background": "light"
     },
     "output_type": "display_data"
    }
   ],
   "source": [
    "# workaround plot otherwise setting the font does not work :(\n",
    "plt.plot()"
   ]
  },
  {
   "cell_type": "code",
   "execution_count": 4,
   "id": "ccc3bef8",
   "metadata": {},
   "outputs": [],
   "source": [
    "# Code that should make matplotlib use ACM font (libertine)\n",
    "import matplotlib\n",
    "\n",
    "rc_fonts = {\n",
    "    \"font.family\": \"serif\",\n",
    "    \"font.size\": 12,\n",
    "    'figure.figsize': (5, 3),\n",
    "    \"text.usetex\": True,\n",
    "    'text.latex.preamble': \n",
    "        r\"\"\"\n",
    "        \\usepackage{libertine}\n",
    "        \\usepackage[libertine]{newtxmath}\n",
    "        \"\"\",\n",
    "}\n",
    "matplotlib.rcParams.update(rc_fonts)"
   ]
  },
  {
   "cell_type": "code",
   "execution_count": 5,
   "id": "dfbf3e2c",
   "metadata": {},
   "outputs": [],
   "source": [
    "import pickle\n",
    "\n",
    "import numpy as np"
   ]
  },
  {
   "cell_type": "code",
   "execution_count": 6,
   "id": "f898f73f",
   "metadata": {},
   "outputs": [],
   "source": [
    "#save_prefix = datetime.now().strftime(\"%Y_%m_%d__%H_%M_%S\")\n",
    "#print(to_komma(save_prefix))\n",
    "#with open(f\"./results/Baselines_{save_prefix}.pkl\", \"wb\") as f:\n",
    "#    pass\n",
    "#    pickle.dump((dataset, SAEs0, Js0, times0), f)"
   ]
  },
  {
   "cell_type": "code",
   "execution_count": 7,
   "id": "950bed5a",
   "metadata": {},
   "outputs": [],
   "source": [
    "from datetime import datetime"
   ]
  },
  {
   "cell_type": "code",
   "execution_count": 8,
   "id": "e83f7160",
   "metadata": {},
   "outputs": [],
   "source": [
    "karate_NeSt = \"2022_09_28__16_29_55\"\n",
    "karate_ERGM = \"2022_09_28__16_29_54\"\n",
    "karate_ERGM2 = \"2022_10_10__12_13_31\""
   ]
  },
  {
   "cell_type": "code",
   "execution_count": 9,
   "id": "7e98f038",
   "metadata": {},
   "outputs": [],
   "source": [
    "phonecalls_ERGM =  \"2022_09_27__13_07_02\"\n",
    "phonecalls_ERGM2 = \"2022_10_04__05_39_34\"\n",
    "\n",
    "phonecalls_NeSt =  \"2022_09_28__16_27_13\"\n",
    "phonecalls_NeSt2 = \"2022_09_28__17_00_54\"\n",
    "phonecalls_NeSt3 = \"2022_10_04__05_39_43\""
   ]
  },
  {
   "cell_type": "code",
   "execution_count": 10,
   "id": "d93059c5",
   "metadata": {},
   "outputs": [],
   "source": [
    "def load_data(kind, dataset, timestamp):\n",
    "    with open(f\"./results/{kind}_{dataset}_{timestamp}.pkl\", \"rb\") as f:\n",
    "        (dataset, n_samples, n_rewires, SAE, J, ratio, rew_time) = pickle.load(f)\n",
    "    return (dataset, n_samples, n_rewires, SAE, J, ratio, rew_time)"
   ]
  },
  {
   "cell_type": "code",
   "execution_count": 11,
   "id": "4d34e748",
   "metadata": {},
   "outputs": [],
   "source": [
    "_, _, _, SAE1, J1, ratio1, rew_time1 = load_data(\"ERGM\", \"phonecalls\", phonecalls_ERGM2)"
   ]
  },
  {
   "cell_type": "code",
   "execution_count": 12,
   "id": "f1afae7a",
   "metadata": {},
   "outputs": [],
   "source": [
    "_, _, _, SAE3, J3, ratio3, rew_time3 = load_data(\"ERGM\", \"karate\", karate_ERGM2)"
   ]
  },
  {
   "cell_type": "code",
   "execution_count": 13,
   "id": "a17b57b9",
   "metadata": {},
   "outputs": [],
   "source": [
    "_, _, _, SAE2, J2, ratio2, rew_time2 = load_data(\"NeSt\", \"phonecalls\", phonecalls_NeSt3)"
   ]
  },
  {
   "cell_type": "code",
   "execution_count": 14,
   "id": "675f8605",
   "metadata": {},
   "outputs": [],
   "source": [
    "_, _, _, SAE4, J4, ratio4, rew_time4 = load_data(\"NeSt\", \"karate\", karate_NeSt)\n"
   ]
  },
  {
   "cell_type": "code",
   "execution_count": null,
   "id": "89a80fe7",
   "metadata": {},
   "outputs": [],
   "source": []
  },
  {
   "cell_type": "code",
   "execution_count": 15,
   "id": "8d20706b",
   "metadata": {},
   "outputs": [],
   "source": [
    "_, _, _, SAE5, J5, ratio5, rew_time5 = load_data(\"Erdos\", \"karate\", \"2022_10_10__15_35_40\")\n",
    "_, _, _, SAE6, J6, ratio6, rew_time6 = load_data(\"Erdos\", \"phonecalls\", \"2022_10_10__15_36_55\")"
   ]
  },
  {
   "cell_type": "code",
   "execution_count": 16,
   "id": "9e6e9801",
   "metadata": {},
   "outputs": [],
   "source": [
    "def drop_keys(dicts, keys):\n",
    "    for key in keys:\n",
    "        for d in dicts:\n",
    "            if key in d:\n",
    "                del d[key]"
   ]
  },
  {
   "cell_type": "code",
   "execution_count": 17,
   "id": "2a97d6db",
   "metadata": {},
   "outputs": [],
   "source": [
    "drop_keys((SAE1, J1, ratio1, rew_time1), [50,200,400,600,800])\n",
    "drop_keys((SAE2, J2, ratio2, rew_time2), [5,6,7,8])"
   ]
  },
  {
   "cell_type": "code",
   "execution_count": 18,
   "id": "bd8289bb",
   "metadata": {},
   "outputs": [],
   "source": [
    "drop_keys((SAE3, J3, ratio3, rew_time3), [50,200,600,800])"
   ]
  },
  {
   "cell_type": "code",
   "execution_count": 19,
   "id": "5fd0dc9f",
   "metadata": {},
   "outputs": [
    {
     "data": {
      "text/plain": [
       "[0, 1, 2]"
      ]
     },
     "execution_count": 19,
     "metadata": {},
     "output_type": "execute_result"
    }
   ],
   "source": [
    "list(SAE4.keys())"
   ]
  },
  {
   "cell_type": "code",
   "execution_count": 20,
   "id": "10e1516d",
   "metadata": {},
   "outputs": [],
   "source": [
    "keys1 = [\"ERGM-\"+str(key//10) for key in SAE1.keys()]\n",
    "keys2 = [\"NeSt-\"+str(key+1) for key in SAE2.keys()]\n",
    "\n",
    "for i, val in enumerate(keys2):\n",
    "    if val == \"NeSt-1\":\n",
    "        keys2[i]=\"Conf.\""
   ]
  },
  {
   "cell_type": "code",
   "execution_count": 21,
   "id": "8dce8a70",
   "metadata": {},
   "outputs": [],
   "source": [
    "keys3 = [\"ERGM-\"+str(key//10) for key in SAE3.keys()]\n",
    "keys4 = [\"NeSt-\"+str(key+1) for key in SAE4.keys()]\n",
    "\n",
    "for i, val in enumerate(keys4):\n",
    "    if val == \"NeSt-1\":\n",
    "        keys4[i]=\"Conf.\""
   ]
  },
  {
   "cell_type": "code",
   "execution_count": 22,
   "id": "6285c5ba",
   "metadata": {},
   "outputs": [],
   "source": [
    "keys5 = [\"ER\"]\n",
    "keys6 = [\"ER\"]"
   ]
  },
  {
   "cell_type": "code",
   "execution_count": 23,
   "id": "9c0351d5",
   "metadata": {},
   "outputs": [
    {
     "data": {
      "image/png": "[encoded data removed]",
      "text/plain": [
       "<Figure size 360x216 with 1 Axes>"
      ]
     },
     "metadata": {
      "needs_background": "light"
     },
     "output_type": "display_data"
    }
   ],
   "source": [
    "def plot_stuff(key_vals, ax, label):\n",
    "    for keys, vals in key_vals:\n",
    "        ax.bar(keys, list(map(np.mean, vals.values())), yerr=list(map(np.std, vals.values())))\n",
    "    ax.set_ylabel(label)\n",
    "    #ax.set_xticklabels(rotation=90)\n",
    "    #if label==\"rewiring_time\":\n",
    "    ax.tick_params(axis='x', labelrotation = 90)\n",
    "#plt.figure(figsize=(4, 3))\n",
    "plot_stuff([(keys1, SAE1), (keys2, SAE2)], plt.gca(), \"SAE\")\n",
    "#plt.savefig(f\"./results/SAE_{datetime.now().strftime('%m_%d')}.pdf\")"
   ]
  },
  {
   "cell_type": "code",
   "execution_count": 24,
   "id": "c6934174",
   "metadata": {},
   "outputs": [
    {
     "data": {
      "image/png": "[encoded data removed]",
      "text/plain": [
       "<Figure size 432x216 with 6 Axes>"
      ]
     },
     "metadata": {
      "needs_background": "light"
     },
     "output_type": "display_data"
    }
   ],
   "source": [
    "fig, axs = plt.subplots(3,2,figsize=(6, 3), sharex='col', sharey='row')\n",
    "\n",
    "\n",
    "# SAE\n",
    "plot_stuff([(keys3, SAE3), (keys5, SAE5), (keys4, SAE4)], axs[0,0], \"SAE\")\n",
    "plot_stuff([(keys1, SAE1), (keys6, SAE6), (keys2, SAE2)], axs[0,1], \"\")\n",
    "\n",
    "axs[0,0].set_yticks([0, 0.2, 0.4, 0.6])\n",
    "\n",
    "\n",
    "# Jaccard\n",
    "plot_stuff([(keys3, J3), (keys5, J5), (keys4, J4)], axs[1,0], \"Jaccard\")\n",
    "plot_stuff([(keys1, J1), (keys6, J6), (keys2, J2)], axs[1,1], \"\")\n",
    "\n",
    "axs[1,0].set_ylim(0,1)\n",
    "axs[1,0].set_yticks([0, 0.5, 1])\n",
    "\n",
    "\n",
    "# SAE\n",
    "plot_stuff([(keys3, rew_time3), (keys5, rew_time5), (keys4, rew_time4)], axs[2,0], \"rewire time\")\n",
    "plot_stuff([(keys1, rew_time1), (keys6, rew_time6), (keys2, rew_time2)], axs[2,1], \"\")\n",
    "axs[2,1].set_yscale(\"log\")\n",
    "\n",
    "plt.subplots_adjust(wspace=0.05, hspace=0.25)\n",
    "\n",
    "axs[2,0].set_yticks([0.001, 0.1, 10, 10**3])\n",
    "\n",
    "axs[0,0].set_title(\"karate\", fontsize=16)\n",
    "axs[0,1].set_title(\"phonecalls\", fontsize=16)\n",
    "\n",
    "fig.savefig(\"./results/ergm_nest.pdf\", bbox_inches=\"tight\", pad_inches=0.1)"
   ]
  },
  {
   "cell_type": "code",
   "execution_count": 25,
   "id": "7b898f8b",
   "metadata": {},
   "outputs": [
    {
     "data": {
      "text/plain": [
       "0.000363594462150063"
      ]
     },
     "execution_count": 25,
     "metadata": {},
     "output_type": "execute_result"
    }
   ],
   "source": [
    "np.std(rew_time5[0])"
   ]
  },
  {
   "cell_type": "code",
   "execution_count": 26,
   "id": "a3e61909",
   "metadata": {},
   "outputs": [
    {
     "data": {
      "text/plain": [
       "0.0037341500000138694"
      ]
     },
     "execution_count": 26,
     "metadata": {},
     "output_type": "execute_result"
    }
   ],
   "source": [
    "np.max(rew_time5[0])"
   ]
  },
  {
   "cell_type": "code",
   "execution_count": null,
   "id": "71308d82",
   "metadata": {},
   "outputs": [],
   "source": []
  }
 ],
 "metadata": {
  "kernelspec": {
   "display_name": "Python 3",
   "language": "python",
   "name": "python3"
  },
  "language_info": {
   "codemirror_mode": {
    "name": "ipython",
    "version": 3
   },
   "file_extension": ".py",
   "mimetype": "text/x-python",
   "name": "python",
   "nbconvert_exporter": "python",
   "pygments_lexer": "ipython3",
   "version": "3.10.5"
  }
 },
 "nbformat": 4,
 "nbformat_minor": 5
}
