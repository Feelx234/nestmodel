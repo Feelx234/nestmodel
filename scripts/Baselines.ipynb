{
 "cells": [
  {
   "cell_type": "code",
   "execution_count": 1,
   "metadata": {},
   "outputs": [],
   "source": [
    "from pathlib import Path\n",
    "from nestmodel.load_datasets import load_fg_dataset_cached\n",
    "\n",
    "\n",
    "from nestmodel.fast_graph import FastGraph\n",
    "import numpy as np\n",
    "from datetime import datetime\n",
    "import pickle\n",
    "import matplotlib.pyplot as plt"
   ]
  },
  {
   "cell_type": "code",
   "execution_count": 2,
   "metadata": {},
   "outputs": [],
   "source": [
    "datasets = [\"karate\", \n",
    "            \"phonecalls\",\n",
    "            \"HepPh\", \n",
    "            \"AstroPh\", \n",
    "#            \"web-Google\",\n",
    "#             \"soc-Pokec\"\n",
    "#            \"deezer_HR\", \"deezer_HU\", \"deezer_RO\",\"tw_musae_DE\",\n",
    "#            \"tw_musae_ENGB\",\"tw_musae_FR\",\"lastfm_asia\",\"fb_ath\",\n",
    "#            \"fb_pol\", \"facebook_sc\"\n",
    "           ]"
   ]
  },
  {
   "cell_type": "code",
   "execution_count": 3,
   "metadata": {},
   "outputs": [],
   "source": [
    "dataset_path = None # set path here"
   ]
  },
  {
   "cell_type": "code",
   "execution_count": null,
   "metadata": {},
   "outputs": [],
   "source": []
  },
  {
   "cell_type": "code",
   "execution_count": 4,
   "metadata": {},
   "outputs": [],
   "source": [
    "from nestmodel.utils import AutoList\n",
    "from tqdm.auto import tqdm\n",
    "import time\n",
    "\n",
    "def run_rewires(Rewirer, phis, n_rewires, n_samples, n_test_flips=10):\n",
    "    output = AutoList({\"SAE\", \"J\", \"ratio\", \"result_p\", \"SAE\", \"rew_time\"})\n",
    "    Rewirer.validate_params(phis)\n",
    "    Rewirer.reset_graph()\n",
    "    # do rewiring now to discard potential compile overhead\n",
    "    result = Rewirer.rewire(1, phis[0], 0)\n",
    "    \n",
    "    t0 = time.process_time()\n",
    "    result = Rewirer.rewire(0, phis[0], 0)\n",
    "    setup_time = time.process_time()-t0\n",
    "    \n",
    "    t0 = time.process_time()\n",
    "    result = Rewirer.rewire(n_test_flips, phis[0], 0)\n",
    "    flip_time = time.process_time()-t0\n",
    "    \n",
    "    #if delta * n_rewires > 10:\n",
    "    one_sample_time = max(setup_time + (flip_time - setup_time) * n_rewires/n_test_flips, 0)\n",
    "    one_sample_unit = \"[s]\"\n",
    "    if one_sample_time>3600:\n",
    "        one_sample_time /= 3600\n",
    "        one_sample_unit = \"[h]\"\n",
    "    print(\"approx time for 1 sample:\", one_sample_time, one_sample_unit)\n",
    "    print(\"approx total time:\", one_sample_time * len(phis) * n_samples, one_sample_unit)\n",
    "    for phi in phis:\n",
    "        for seed in tqdm(range(n_samples), miniters=1, leave=False):\n",
    "            Rewirer.reset_graph()\n",
    "\n",
    "            result = Rewirer.rewire(n_rewires, phi, seed)\n",
    "\n",
    "            Rewirer.log_result(result, output)\n",
    "\n",
    "            time.sleep(0.001) # required to ensure the status bar is updated properly\n",
    "    return output"
   ]
  },
  {
   "cell_type": "code",
   "execution_count": 5,
   "metadata": {},
   "outputs": [],
   "source": [
    "def save_data(output, prefix):\n",
    "    if n_rewires == 1:\n",
    "        print(\"skipping saving for n_samples = 1\")\n",
    "        return\n",
    "    time_prefix = datetime.now().strftime(\"%Y_%m_%d__%H_%M_%S\")\n",
    "    print(\"saving\", dataset, prefix,  time_prefix)\n",
    "    \n",
    "    with open(f\"./results/{prefix}_{dataset}_{time_prefix}.pkl\", \"wb\") as f:\n",
    "        pickle.dump((dataset, n_samples, n_rewires, output.SAE, output.J, output.ratio, output.rew_time), f)"
   ]
  },
  {
   "cell_type": "markdown",
   "metadata": {},
   "source": [
    "## ERGM Sampling"
   ]
  },
  {
   "cell_type": "code",
   "execution_count": 6,
   "metadata": {},
   "outputs": [],
   "source": [
    "from nestmodel.ERGM_experiments import ERGM_RewireWrapper, NeSt_RewireWrapper, Erdos_RewireWrapper"
   ]
  },
  {
   "cell_type": "code",
   "execution_count": 7,
   "metadata": {},
   "outputs": [],
   "source": [
    "dataset = \"karate\"\n",
    "verbosity=1\n",
    "phis = np.array([1, 10, 100])\n",
    "n_samples = 100\n",
    "if dataset == \"karate\":\n",
    "    n_edges = 78\n",
    "    n_rewires = 200\n",
    "    phis *= 34\n",
    "elif dataset == \"phonecalls\":\n",
    "    n_edges = 45_680\n",
    "    n_rewires = 100_000\n",
    "    phis *= 36_595\n",
    "else:\n",
    "    raise ValueError()\n"
   ]
  },
  {
   "cell_type": "code",
   "execution_count": null,
   "metadata": {},
   "outputs": [
    {
     "name": "stdout",
     "output_type": "stream",
     "text": [
      "approx time for 1 sample: 1.1578430609969452 [h]\n",
      "approx total time: 347.35291829908357 [h]\n"
     ]
    }
   ],
   "source": [
    "\"\"\"ERGM \"\"\"\n",
    "\n",
    "G = load_fg_dataset_cached(dataset_path, dataset)\n",
    "\n",
    "\n",
    "if dataset != \"karate\":\n",
    "    Rewirer = ERGM_RewireWrapper(G, \"dict\")\n",
    "else:  \n",
    "    Rewirer = ERGM_RewireWrapper(G.to_nx(), \"adjacency\")\n",
    "\n",
    "    \n",
    "output = run_rewires(Rewirer, phis, n_rewires, n_samples)\n",
    "save_data(output, \"ERGM\")\n",
    "\n",
    "# phonecalls sampling time 4184.89127677201s"
   ]
  },
  {
   "cell_type": "markdown",
   "metadata": {},
   "source": [
    "## NeSt sampling"
   ]
  },
  {
   "cell_type": "code",
   "execution_count": null,
   "metadata": {},
   "outputs": [],
   "source": [
    "if dataset == \"karate\":\n",
    "    depths = [0, 1, 2]\n",
    "elif dataset == \"phonecalls\":\n",
    "    depths = [0, 1, 2, 3, 4, 5, 6, 7, 8]\n",
    "else:\n",
    "    raise ValueError()"
   ]
  },
  {
   "cell_type": "code",
   "execution_count": null,
   "metadata": {},
   "outputs": [],
   "source": [
    "G = load_fg_dataset_cached(dataset_path, dataset)\n",
    "G.check_results = False\n",
    "Rewirer = NeSt_RewireWrapper(G.copy())\n",
    "G.ensure_edges_prepared()\n",
    "\n",
    "\n",
    "output2 = run_rewires(Rewirer, depths, n_rewires, n_samples)\n",
    "save_data(output2, \"NeSt\")"
   ]
  },
  {
   "cell_type": "markdown",
   "metadata": {},
   "source": [
    "## Erdos Renyi"
   ]
  },
  {
   "cell_type": "code",
   "execution_count": null,
   "metadata": {},
   "outputs": [],
   "source": []
  },
  {
   "cell_type": "code",
   "execution_count": null,
   "metadata": {},
   "outputs": [],
   "source": []
  },
  {
   "cell_type": "code",
   "execution_count": null,
   "metadata": {},
   "outputs": [],
   "source": [
    "G = load_fg_dataset_cached(dataset_path, dataset)\n",
    "G.check_results = False\n",
    "Rewirer = Erdos_RewireWrapper(G.copy())\n",
    "G.ensure_edges_prepared()\n",
    "\n",
    "\n",
    "output2 = run_rewires(Rewirer, [0], n_rewires, n_samples)\n",
    "save_data(output2, \"Erdos\")"
   ]
  },
  {
   "cell_type": "code",
   "execution_count": null,
   "metadata": {},
   "outputs": [],
   "source": []
  }
 ],
 "metadata": {
  "kernelspec": {
   "display_name": "Python (conda_net)",
   "language": "python",
   "name": "conda_net"
  },
  "language_info": {
   "codemirror_mode": {
    "name": "ipython",
    "version": 3
   },
   "file_extension": ".py",
   "mimetype": "text/x-python",
   "name": "python",
   "nbconvert_exporter": "python",
   "pygments_lexer": "ipython3",
   "version": "3.10.5 | packaged by conda-forge | (main, Jun 14 2022, 07:06:46) [GCC 10.3.0]"
  }
 },
 "nbformat": 4,
 "nbformat_minor": 4
}
