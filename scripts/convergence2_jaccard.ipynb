{
 "cells": [
  {
   "cell_type": "code",
   "execution_count": null,
   "metadata": {},
   "outputs": [],
   "source": [
    "from nestmodel.utils import calc_jaccard_edges\n",
    "from convergence_helper import MultiTracker, ParameterWrapper, compute_on_all_datasets, save_results\n",
    "from convergence_helper import get_datasets, get_samples"
   ]
  },
  {
   "cell_type": "code",
   "execution_count": null,
   "metadata": {},
   "outputs": [],
   "source": [
    "datasets = [\"karate\", \n",
    "            \"phonecalls\",\n",
    "            \"HepPh\", \n",
    "           \"AstroPh\", \n",
    "#            \"web-Google\",\n",
    "#             \"soc-Pokec\"\n",
    "           ]"
   ]
  },
  {
   "cell_type": "code",
   "execution_count": null,
   "metadata": {},
   "outputs": [],
   "source": [
    "class EdgeData:\n",
    "    def __init__(self, edges, is_directed):\n",
    "        self.edges =edges\n",
    "        self.is_directed=is_directed\n",
    "        \n",
    "def get_edges(G):\n",
    "    return EdgeData(G.edges.copy(),G.is_directed)\n",
    "\n",
    "def wrapper_fun(edgedata1, edgedata2):\n",
    "    assert edgedata1.is_directed == edgedata1.is_directed\n",
    "    \n",
    "    return calc_jaccard_edges(edgedata1.edges, edgedata2.edges, edgedata1.is_directed)"
   ]
  },
  {
   "cell_type": "code",
   "execution_count": null,
   "metadata": {
    "scrolled": false
   },
   "outputs": [],
   "source": [
    "tracker = MultiTracker((\"jaccard\",), (wrapper_fun,))\n",
    "params = ParameterWrapper(\n",
    "dataset_path = None,\n",
    "cent_func    = get_edges,   \n",
    "cent_kwargs  = {},\n",
    "rewire_kwargs =    {\"method\":1, \"source_only\":True},\n",
    "wl_kwargs = {\"initial_colors\":None, \"both\":False},\n",
    "number_of_samples=get_samples(100)\n",
    ")\n",
    "\n",
    "\n",
    "params.verbosity=1\n",
    "tracker.verbosity=1\n",
    "params.tqdm=1\n",
    "compute_on_all_datasets(get_datasets(datasets), tracker, params)"
   ]
  },
  {
   "cell_type": "code",
   "execution_count": null,
   "metadata": {},
   "outputs": [],
   "source": [
    "save_results(\"jaccard\", tracker, params)"
   ]
  },
  {
   "cell_type": "code",
   "execution_count": null,
   "metadata": {},
   "outputs": [],
   "source": []
  }
 ],
 "metadata": {
  "kernelspec": {
   "display_name": "Python 3 (ipykernel)",
   "language": "python",
   "name": "python3"
  },
  "language_info": {
   "codemirror_mode": {
    "name": "ipython",
    "version": 3
   },
   "file_extension": ".py",
   "mimetype": "text/x-python",
   "name": "python",
   "nbconvert_exporter": "python",
   "pygments_lexer": "ipython3",
   "version": "3.10.11"
  }
 },
 "nbformat": 4,
 "nbformat_minor": 4
}
